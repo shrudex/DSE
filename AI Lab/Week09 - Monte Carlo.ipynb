{
 "cells": [
  {
   "cell_type": "code",
   "execution_count": 1,
   "id": "8e2461a6",
   "metadata": {},
   "outputs": [],
   "source": [
    "# Monte Carlo Exploring States"
   ]
  },
  {
   "cell_type": "code",
   "execution_count": 29,
   "id": "94c4d4f6",
   "metadata": {},
   "outputs": [],
   "source": [
    "import gymnasium as gym\n",
    "import random"
   ]
  },
  {
   "cell_type": "code",
   "execution_count": 30,
   "id": "fb2b41cc",
   "metadata": {},
   "outputs": [],
   "source": [
    "env = gym.make(\"FrozenLake-v1\")"
   ]
  },
  {
   "cell_type": "code",
   "execution_count": 156,
   "id": "1bfaf740",
   "metadata": {},
   "outputs": [],
   "source": [
    "episodes = 500\n",
    "obsCount = env.observation_space.n\n",
    "actCount = env.action_space.n\n",
    "gamma = 1.0\n",
    "epsilon = 0.1 #for on policy first visit MC"
   ]
  },
  {
   "cell_type": "code",
   "execution_count": 200,
   "id": "161379b5",
   "metadata": {},
   "outputs": [],
   "source": [
    "def monteCarloES():\n",
    "    N = [[0 for _ in range(actCount)] for _ in range(obsCount)]\n",
    "    Q = [[0 for _ in range(actCount)] for _ in range(obsCount)]\n",
    "    totalSteps = []\n",
    "    \n",
    "    for i in range(episodes):\n",
    "        state = env.reset()[0]\n",
    "        episode = []\n",
    "        steps = 0\n",
    "        \n",
    "        while True:\n",
    "            action = random.randint(0, actCount-1)\n",
    "            transition = env.step(action)\n",
    "            # 0-> nextState, 1-> reward, 2-> done\n",
    "            episode.append((state, action, transition[1]))\n",
    "            state = transition[0]\n",
    "            steps+=1\n",
    "            if transition[2]: break\n",
    "            \n",
    "        totalSteps.append(steps)\n",
    "        \n",
    "        returns = 0\n",
    "        for state, action, reward in episode[::-1]:\n",
    "            returns = gamma * returns + reward\n",
    "            N[state][action] += 1\n",
    "            Q[state][action] += (returns - Q[state][action])/N[state][action]\n",
    "    \n",
    "    policy = [state.index(max(state)) for state in Q]\n",
    "    print(\"Total Number of Steps to Reach Optimal Policy for Monte Carlo ES -> \", sum(totalSteps))\n",
    "    print(\"Average Number of Steps to Reach Optimal Policy for Monte Carlo ES -> \", sum(totalSteps)/len(totalSteps))\n",
    "    #print(\"Optimal Policy Actions for States -> \",policy)"
   ]
  },
  {
   "cell_type": "code",
   "execution_count": 201,
   "id": "8589da62",
   "metadata": {},
   "outputs": [],
   "source": [
    "def onPolicyMC():\n",
    "    N = [[0 for _ in range(actCount)] for _ in range(obsCount)]\n",
    "    Q = [[0 for _ in range(actCount)] for _ in range(obsCount)]\n",
    "    totalSteps = []\n",
    "    \n",
    "    for i in range(episodes):\n",
    "        state = env.reset()[0]\n",
    "        episode = []\n",
    "        steps = 0\n",
    "        \n",
    "        while True:\n",
    "            if random.random() < epsilon:\n",
    "                action = random.randint(0, actCount-1)\n",
    "            else:\n",
    "                action = Q[state].index(max(Q[state]))\n",
    "            transition = env.step(action)\n",
    "            # 0-> nextState, 1-> reward, 2-> done\n",
    "            episode.append((state, action, transition[1], transition[0]))\n",
    "            state = transition[0]\n",
    "            steps+=1\n",
    "            if transition[2]: break\n",
    "            \n",
    "        totalSteps.append(steps)\n",
    "        returns = 0\n",
    "        for state, action, reward, nextState in episode[::-1]:\n",
    "            returns = gamma * max(Q[nextState]) + reward\n",
    "            N[state][action] += 1\n",
    "            Q[state][action] += (returns - Q[state][action])/N[state][action]\n",
    "    policy = [state.index(max(state)) for state in Q]\n",
    "    print(\"Total Number of Steps to Reach Optimal Policy for Monte Carlo ES -> \", sum(totalSteps))\n",
    "    print(\"Average Number of Steps to Reach Optimal Policy for Monte Carlo ES -> \", sum(totalSteps)/len(totalSteps))"
   ]
  },
  {
   "cell_type": "code",
   "execution_count": 202,
   "id": "857010d4",
   "metadata": {},
   "outputs": [
    {
     "name": "stdout",
     "output_type": "stream",
     "text": [
      "Total Number of Steps to Reach Optimal Policy for Monte Carlo ES ->  3703\n",
      "Average Number of Steps to Reach Optimal Policy for Monte Carlo ES ->  7.406\n"
     ]
    }
   ],
   "source": [
    "monteCarloES()"
   ]
  },
  {
   "cell_type": "code",
   "execution_count": 203,
   "id": "408d040d",
   "metadata": {},
   "outputs": [
    {
     "name": "stdout",
     "output_type": "stream",
     "text": [
      "Total Number of Steps to Reach Optimal Policy for Monte Carlo ES ->  7745\n",
      "Average Number of Steps to Reach Optimal Policy for Monte Carlo ES ->  15.49\n"
     ]
    }
   ],
   "source": [
    "onPolicyMC()"
   ]
  },
  {
   "cell_type": "code",
   "execution_count": null,
   "id": "a8eec7e5",
   "metadata": {},
   "outputs": [],
   "source": []
  }
 ],
 "metadata": {
  "kernelspec": {
   "display_name": "Python 3 (ipykernel)",
   "language": "python",
   "name": "python3"
  },
  "language_info": {
   "codemirror_mode": {
    "name": "ipython",
    "version": 3
   },
   "file_extension": ".py",
   "mimetype": "text/x-python",
   "name": "python",
   "nbconvert_exporter": "python",
   "pygments_lexer": "ipython3",
   "version": "3.9.12"
  }
 },
 "nbformat": 4,
 "nbformat_minor": 5
}
