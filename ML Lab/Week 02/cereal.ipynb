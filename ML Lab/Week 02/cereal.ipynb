{
 "cells": [
  {
   "cell_type": "markdown",
   "id": "07600e10",
   "metadata": {},
   "source": [
    "### Q1) Tabulate the following attributes: mfr, and type of cereals"
   ]
  },
  {
   "cell_type": "code",
   "execution_count": 9,
   "id": "81849d4e",
   "metadata": {},
   "outputs": [
    {
     "name": "stdout",
     "output_type": "stream",
     "text": [
      "type   C  H\n",
      "mfr        \n",
      "A      0  1\n",
      "G     22  0\n",
      "K     23  0\n",
      "N      5  1\n",
      "P      9  0\n",
      "Q      7  1\n",
      "R      8  0\n"
     ]
    }
   ],
   "source": [
    "import pandas as pd\n",
    "\n",
    "cereals_df = pd.read_csv('cereals.csv')\n",
    "\n",
    "tab = pd.crosstab(index=cereals_df['mfr'], columns=cereals_df['type'])\n",
    "\n",
    "print(tab)"
   ]
  },
  {
   "cell_type": "markdown",
   "id": "930e9e4e",
   "metadata": {},
   "source": [
    "### Q2) Display the 5 number summary for all nutritional attributes starting from calories to vitamins."
   ]
  },
  {
   "cell_type": "code",
   "execution_count": 10,
   "id": "1618d24d",
   "metadata": {},
   "outputs": [
    {
     "name": "stdout",
     "output_type": "stream",
     "text": [
      "         calories    protein        fat      sodium      fiber      carbo  \\\n",
      "count   77.000000  77.000000  77.000000   77.000000  77.000000  77.000000   \n",
      "mean   106.883117   2.545455   1.012987  159.675325   2.151948  14.597403   \n",
      "std     19.484119   1.094790   1.006473   83.832295   2.383364   4.278956   \n",
      "min     50.000000   1.000000   0.000000    0.000000   0.000000  -1.000000   \n",
      "25%    100.000000   2.000000   0.000000  130.000000   1.000000  12.000000   \n",
      "50%    110.000000   3.000000   1.000000  180.000000   2.000000  14.000000   \n",
      "75%    110.000000   3.000000   2.000000  210.000000   3.000000  17.000000   \n",
      "max    160.000000   6.000000   5.000000  320.000000  14.000000  23.000000   \n",
      "\n",
      "          sugars      potass    vitamins      shelf     weight       cups  \n",
      "count  77.000000   77.000000   77.000000  77.000000  77.000000  77.000000  \n",
      "mean    6.922078   96.077922   28.246753   2.207792   1.029610   0.821039  \n",
      "std     4.444885   71.286813   22.342523   0.832524   0.150477   0.232716  \n",
      "min    -1.000000   -1.000000    0.000000   1.000000   0.500000   0.250000  \n",
      "25%     3.000000   40.000000   25.000000   1.000000   1.000000   0.670000  \n",
      "50%     7.000000   90.000000   25.000000   2.000000   1.000000   0.750000  \n",
      "75%    11.000000  120.000000   25.000000   3.000000   1.000000   1.000000  \n",
      "max    15.000000  330.000000  100.000000   3.000000   1.500000   1.500000  \n"
     ]
    }
   ],
   "source": [
    "nutrients = cereals_df.columns[3:-1]\n",
    "summary = cereals_df[nutrients].describe()\n",
    "print(summary)"
   ]
  },
  {
   "cell_type": "markdown",
   "id": "9576d8f0",
   "metadata": {},
   "source": [
    "### Q3) For missing values find and replace with arithmetic mean of the attributes."
   ]
  },
  {
   "cell_type": "code",
   "execution_count": 12,
   "id": "43e9bc4f",
   "metadata": {},
   "outputs": [
    {
     "name": "stderr",
     "output_type": "stream",
     "text": [
      "C:\\Users\\codes\\AppData\\Local\\Temp\\ipykernel_32412\\977107729.py:2: FutureWarning: Dropping of nuisance columns in DataFrame reductions (with 'numeric_only=None') is deprecated; in a future version this will raise TypeError.  Select only valid columns before calling the reduction.\n",
      "  cereals_df.fillna(cereals_df.mean(), inplace=True)\n"
     ]
    },
    {
     "data": {
      "text/html": [
       "<div>\n",
       "<style scoped>\n",
       "    .dataframe tbody tr th:only-of-type {\n",
       "        vertical-align: middle;\n",
       "    }\n",
       "\n",
       "    .dataframe tbody tr th {\n",
       "        vertical-align: top;\n",
       "    }\n",
       "\n",
       "    .dataframe thead th {\n",
       "        text-align: right;\n",
       "    }\n",
       "</style>\n",
       "<table border=\"1\" class=\"dataframe\">\n",
       "  <thead>\n",
       "    <tr style=\"text-align: right;\">\n",
       "      <th></th>\n",
       "      <th>name</th>\n",
       "      <th>mfr</th>\n",
       "      <th>type</th>\n",
       "      <th>calories</th>\n",
       "      <th>protein</th>\n",
       "      <th>fat</th>\n",
       "      <th>sodium</th>\n",
       "      <th>fiber</th>\n",
       "      <th>carbo</th>\n",
       "      <th>sugars</th>\n",
       "      <th>potass</th>\n",
       "      <th>vitamins</th>\n",
       "      <th>shelf</th>\n",
       "      <th>weight</th>\n",
       "      <th>cups</th>\n",
       "      <th>rating</th>\n",
       "    </tr>\n",
       "  </thead>\n",
       "  <tbody>\n",
       "    <tr>\n",
       "      <th>0</th>\n",
       "      <td>100% Bran</td>\n",
       "      <td>N</td>\n",
       "      <td>C</td>\n",
       "      <td>70</td>\n",
       "      <td>4</td>\n",
       "      <td>1</td>\n",
       "      <td>130</td>\n",
       "      <td>10.0</td>\n",
       "      <td>5.0</td>\n",
       "      <td>6.0</td>\n",
       "      <td>280.000000</td>\n",
       "      <td>25</td>\n",
       "      <td>3</td>\n",
       "      <td>1.0</td>\n",
       "      <td>0.33</td>\n",
       "      <td>68.402973</td>\n",
       "    </tr>\n",
       "    <tr>\n",
       "      <th>1</th>\n",
       "      <td>100% Natural Bran</td>\n",
       "      <td>Q</td>\n",
       "      <td>C</td>\n",
       "      <td>120</td>\n",
       "      <td>3</td>\n",
       "      <td>5</td>\n",
       "      <td>15</td>\n",
       "      <td>2.0</td>\n",
       "      <td>8.0</td>\n",
       "      <td>8.0</td>\n",
       "      <td>135.000000</td>\n",
       "      <td>0</td>\n",
       "      <td>3</td>\n",
       "      <td>1.0</td>\n",
       "      <td>1.00</td>\n",
       "      <td>33.983679</td>\n",
       "    </tr>\n",
       "    <tr>\n",
       "      <th>2</th>\n",
       "      <td>All-Bran</td>\n",
       "      <td>K</td>\n",
       "      <td>C</td>\n",
       "      <td>70</td>\n",
       "      <td>4</td>\n",
       "      <td>1</td>\n",
       "      <td>260</td>\n",
       "      <td>9.0</td>\n",
       "      <td>7.0</td>\n",
       "      <td>5.0</td>\n",
       "      <td>320.000000</td>\n",
       "      <td>25</td>\n",
       "      <td>3</td>\n",
       "      <td>1.0</td>\n",
       "      <td>0.33</td>\n",
       "      <td>59.425505</td>\n",
       "    </tr>\n",
       "    <tr>\n",
       "      <th>3</th>\n",
       "      <td>All-Bran with Extra Fiber</td>\n",
       "      <td>K</td>\n",
       "      <td>C</td>\n",
       "      <td>50</td>\n",
       "      <td>4</td>\n",
       "      <td>0</td>\n",
       "      <td>140</td>\n",
       "      <td>14.0</td>\n",
       "      <td>8.0</td>\n",
       "      <td>0.0</td>\n",
       "      <td>330.000000</td>\n",
       "      <td>25</td>\n",
       "      <td>3</td>\n",
       "      <td>1.0</td>\n",
       "      <td>0.50</td>\n",
       "      <td>93.704912</td>\n",
       "    </tr>\n",
       "    <tr>\n",
       "      <th>4</th>\n",
       "      <td>Almond Delight</td>\n",
       "      <td>R</td>\n",
       "      <td>C</td>\n",
       "      <td>110</td>\n",
       "      <td>2</td>\n",
       "      <td>2</td>\n",
       "      <td>200</td>\n",
       "      <td>1.0</td>\n",
       "      <td>14.0</td>\n",
       "      <td>8.0</td>\n",
       "      <td>98.666667</td>\n",
       "      <td>25</td>\n",
       "      <td>3</td>\n",
       "      <td>1.0</td>\n",
       "      <td>0.75</td>\n",
       "      <td>34.384843</td>\n",
       "    </tr>\n",
       "    <tr>\n",
       "      <th>...</th>\n",
       "      <td>...</td>\n",
       "      <td>...</td>\n",
       "      <td>...</td>\n",
       "      <td>...</td>\n",
       "      <td>...</td>\n",
       "      <td>...</td>\n",
       "      <td>...</td>\n",
       "      <td>...</td>\n",
       "      <td>...</td>\n",
       "      <td>...</td>\n",
       "      <td>...</td>\n",
       "      <td>...</td>\n",
       "      <td>...</td>\n",
       "      <td>...</td>\n",
       "      <td>...</td>\n",
       "      <td>...</td>\n",
       "    </tr>\n",
       "    <tr>\n",
       "      <th>72</th>\n",
       "      <td>Triples</td>\n",
       "      <td>G</td>\n",
       "      <td>C</td>\n",
       "      <td>110</td>\n",
       "      <td>2</td>\n",
       "      <td>1</td>\n",
       "      <td>250</td>\n",
       "      <td>0.0</td>\n",
       "      <td>21.0</td>\n",
       "      <td>3.0</td>\n",
       "      <td>60.000000</td>\n",
       "      <td>25</td>\n",
       "      <td>3</td>\n",
       "      <td>1.0</td>\n",
       "      <td>0.75</td>\n",
       "      <td>39.106174</td>\n",
       "    </tr>\n",
       "    <tr>\n",
       "      <th>73</th>\n",
       "      <td>Trix</td>\n",
       "      <td>G</td>\n",
       "      <td>C</td>\n",
       "      <td>110</td>\n",
       "      <td>1</td>\n",
       "      <td>1</td>\n",
       "      <td>140</td>\n",
       "      <td>0.0</td>\n",
       "      <td>13.0</td>\n",
       "      <td>12.0</td>\n",
       "      <td>25.000000</td>\n",
       "      <td>25</td>\n",
       "      <td>2</td>\n",
       "      <td>1.0</td>\n",
       "      <td>1.00</td>\n",
       "      <td>27.753301</td>\n",
       "    </tr>\n",
       "    <tr>\n",
       "      <th>74</th>\n",
       "      <td>Wheat Chex</td>\n",
       "      <td>R</td>\n",
       "      <td>C</td>\n",
       "      <td>100</td>\n",
       "      <td>3</td>\n",
       "      <td>1</td>\n",
       "      <td>230</td>\n",
       "      <td>3.0</td>\n",
       "      <td>17.0</td>\n",
       "      <td>3.0</td>\n",
       "      <td>115.000000</td>\n",
       "      <td>25</td>\n",
       "      <td>1</td>\n",
       "      <td>1.0</td>\n",
       "      <td>0.67</td>\n",
       "      <td>49.787445</td>\n",
       "    </tr>\n",
       "    <tr>\n",
       "      <th>75</th>\n",
       "      <td>Wheaties</td>\n",
       "      <td>G</td>\n",
       "      <td>C</td>\n",
       "      <td>100</td>\n",
       "      <td>3</td>\n",
       "      <td>1</td>\n",
       "      <td>200</td>\n",
       "      <td>3.0</td>\n",
       "      <td>17.0</td>\n",
       "      <td>3.0</td>\n",
       "      <td>110.000000</td>\n",
       "      <td>25</td>\n",
       "      <td>1</td>\n",
       "      <td>1.0</td>\n",
       "      <td>1.00</td>\n",
       "      <td>51.592193</td>\n",
       "    </tr>\n",
       "    <tr>\n",
       "      <th>76</th>\n",
       "      <td>Wheaties Honey Gold</td>\n",
       "      <td>G</td>\n",
       "      <td>C</td>\n",
       "      <td>110</td>\n",
       "      <td>2</td>\n",
       "      <td>1</td>\n",
       "      <td>200</td>\n",
       "      <td>1.0</td>\n",
       "      <td>16.0</td>\n",
       "      <td>8.0</td>\n",
       "      <td>60.000000</td>\n",
       "      <td>25</td>\n",
       "      <td>1</td>\n",
       "      <td>1.0</td>\n",
       "      <td>0.75</td>\n",
       "      <td>36.187559</td>\n",
       "    </tr>\n",
       "  </tbody>\n",
       "</table>\n",
       "<p>77 rows × 16 columns</p>\n",
       "</div>"
      ],
      "text/plain": [
       "                         name mfr type  calories  protein  fat  sodium  fiber  \\\n",
       "0                   100% Bran   N    C        70        4    1     130   10.0   \n",
       "1           100% Natural Bran   Q    C       120        3    5      15    2.0   \n",
       "2                    All-Bran   K    C        70        4    1     260    9.0   \n",
       "3   All-Bran with Extra Fiber   K    C        50        4    0     140   14.0   \n",
       "4              Almond Delight   R    C       110        2    2     200    1.0   \n",
       "..                        ...  ..  ...       ...      ...  ...     ...    ...   \n",
       "72                    Triples   G    C       110        2    1     250    0.0   \n",
       "73                       Trix   G    C       110        1    1     140    0.0   \n",
       "74                 Wheat Chex   R    C       100        3    1     230    3.0   \n",
       "75                   Wheaties   G    C       100        3    1     200    3.0   \n",
       "76        Wheaties Honey Gold   G    C       110        2    1     200    1.0   \n",
       "\n",
       "    carbo  sugars      potass  vitamins  shelf  weight  cups     rating  \n",
       "0     5.0     6.0  280.000000        25      3     1.0  0.33  68.402973  \n",
       "1     8.0     8.0  135.000000         0      3     1.0  1.00  33.983679  \n",
       "2     7.0     5.0  320.000000        25      3     1.0  0.33  59.425505  \n",
       "3     8.0     0.0  330.000000        25      3     1.0  0.50  93.704912  \n",
       "4    14.0     8.0   98.666667        25      3     1.0  0.75  34.384843  \n",
       "..    ...     ...         ...       ...    ...     ...   ...        ...  \n",
       "72   21.0     3.0   60.000000        25      3     1.0  0.75  39.106174  \n",
       "73   13.0    12.0   25.000000        25      2     1.0  1.00  27.753301  \n",
       "74   17.0     3.0  115.000000        25      1     1.0  0.67  49.787445  \n",
       "75   17.0     3.0  110.000000        25      1     1.0  1.00  51.592193  \n",
       "76   16.0     8.0   60.000000        25      1     1.0  0.75  36.187559  \n",
       "\n",
       "[77 rows x 16 columns]"
      ]
     },
     "execution_count": 12,
     "metadata": {},
     "output_type": "execute_result"
    }
   ],
   "source": [
    "cereals_df.replace(-1, pd.NA, inplace=True)\n",
    "cereals_df.fillna(cereals_df.mean(), inplace=True)\n",
    "\n",
    "cereals_df"
   ]
  },
  {
   "cell_type": "markdown",
   "id": "9dd93a27",
   "metadata": {},
   "source": [
    "### Q4) Find and replace outliers with median."
   ]
  },
  {
   "cell_type": "code",
   "execution_count": 14,
   "id": "cbb07bf2",
   "metadata": {},
   "outputs": [],
   "source": [
    "def out(series):\n",
    "    Q1 = series.quantile(0.25)\n",
    "    Q3 = series.quantile(0.75)\n",
    "    IQR = Q3 - Q1\n",
    "    lower_bound = Q1 - 1.5 * IQR\n",
    "    upper_bound = Q3 + 1.5 * IQR\n",
    "    series[(series < lower_bound) | (series > upper_bound)] = series.median()\n",
    "    return series\n",
    "\n",
    "cereals_df[cereals_df.select_dtypes(include='number').columns] = cereals_df.select_dtypes(include='number').apply(out)"
   ]
  },
  {
   "cell_type": "markdown",
   "id": "7affb56b",
   "metadata": {},
   "source": [
    "### Q5) Compare the 5 number summary before and after preprocessing"
   ]
  },
  {
   "cell_type": "code",
   "execution_count": 16,
   "id": "63529f3a",
   "metadata": {},
   "outputs": [
    {
     "name": "stdout",
     "output_type": "stream",
     "text": [
      "       calories_before  protein_before  fat_before  sodium_before  \\\n",
      "count        77.000000       77.000000   77.000000      77.000000   \n",
      "mean        107.272727        2.441558    1.012987     180.714286   \n",
      "std           8.051865        0.895802    1.006473      60.075141   \n",
      "min          90.000000        1.000000    0.000000      15.000000   \n",
      "25%         100.000000        2.000000    0.000000     140.000000   \n",
      "50%         110.000000        3.000000    1.000000     180.000000   \n",
      "75%         110.000000        3.000000    2.000000     210.000000   \n",
      "max         120.000000        4.000000    5.000000     320.000000   \n",
      "\n",
      "       fiber_before  carbo_before  sugars_before  potass_before  \\\n",
      "count     77.000000     77.000000      77.000000      77.000000   \n",
      "mean       1.801299     14.802632       7.026316      85.939394   \n",
      "std        1.510707      3.881534       4.349754      47.763205   \n",
      "min        0.000000      5.000000       0.000000      15.000000   \n",
      "25%        1.000000     12.000000       3.000000      45.000000   \n",
      "50%        2.000000     14.802632       7.000000      90.000000   \n",
      "75%        3.000000     17.000000      11.000000     110.000000   \n",
      "max        6.000000     23.000000      15.000000     230.000000   \n",
      "\n",
      "       vitamins_before  shelf_before  ...  fat_after  sodium_after  \\\n",
      "count             77.0     77.000000  ...  77.000000     77.000000   \n",
      "mean              25.0      2.207792  ...   1.012987    183.181818   \n",
      "std                0.0      0.832524  ...   1.006473     51.234170   \n",
      "min               25.0      1.000000  ...   0.000000     45.000000   \n",
      "25%               25.0      1.000000  ...   0.000000    150.000000   \n",
      "50%               25.0      2.000000  ...   1.000000    180.000000   \n",
      "75%               25.0      3.000000  ...   2.000000    210.000000   \n",
      "max               25.0      3.000000  ...   5.000000    290.000000   \n",
      "\n",
      "       fiber_after  carbo_after  sugars_after  potass_after  vitamins_after  \\\n",
      "count    77.000000    77.000000     77.000000     77.000000            77.0   \n",
      "mean      1.801299    14.802632      7.026316     84.121212            25.0   \n",
      "std       1.510707     3.881534      4.349754     44.778562             0.0   \n",
      "min       0.000000     5.000000      0.000000     15.000000            25.0   \n",
      "25%       1.000000    12.000000      3.000000     45.000000            25.0   \n",
      "50%       2.000000    14.802632      7.000000     90.000000            25.0   \n",
      "75%       3.000000    17.000000     11.000000    110.000000            25.0   \n",
      "max       6.000000    23.000000     15.000000    200.000000            25.0   \n",
      "\n",
      "       shelf_after  weight_after  cups_after  \n",
      "count    77.000000          77.0   77.000000  \n",
      "mean      2.207792           1.0    0.811299  \n",
      "std       0.832524           0.0    0.219229  \n",
      "min       1.000000           1.0    0.250000  \n",
      "25%       1.000000           1.0    0.670000  \n",
      "50%       2.000000           1.0    0.750000  \n",
      "75%       3.000000           1.0    1.000000  \n",
      "max       3.000000           1.0    1.330000  \n",
      "\n",
      "[8 rows x 24 columns]\n"
     ]
    },
    {
     "name": "stderr",
     "output_type": "stream",
     "text": [
      "C:\\Users\\codes\\AppData\\Local\\Temp\\ipykernel_32412\\1407682371.py:5: FutureWarning: Dropping of nuisance columns in DataFrame reductions (with 'numeric_only=None') is deprecated; in a future version this will raise TypeError.  Select only valid columns before calling the reduction.\n",
      "  cereals_df.fillna(cereals_df.mean(), inplace=True)\n"
     ]
    }
   ],
   "source": [
    "nutrients = cereals_df.columns[3:-1]\n",
    "\n",
    "summary_before = cereals_df[nutrients].describe()\n",
    "cereals_df.replace(-1, pd.NA, inplace=True)\n",
    "cereals_df.fillna(cereals_df.mean(), inplace=True)\n",
    "cereals_df[cereals_df.select_dtypes(include='number').columns] = cereals_df.select_dtypes(include='number').apply(out)\n",
    "summary_after = cereals_df[nutrients].describe()\n",
    "\n",
    "summary_before.columns = [col + '_before' for col in summary_before.columns]\n",
    "summary_after.columns = [col + '_after' for col in summary_after.columns]\n",
    "summary_comparison = pd.concat([summary_before, summary_after], axis=1)\n",
    "print(summary_comparison)"
   ]
  },
  {
   "cell_type": "markdown",
   "id": "b641abca",
   "metadata": {},
   "source": [
    "### Q6) Draw side-by-side box plots of Calories of Hot Vs cold cereals."
   ]
  },
  {
   "cell_type": "code",
   "execution_count": 41,
   "id": "f8b12055",
   "metadata": {},
   "outputs": [
    {
     "data": {
      "image/png": "[encoded data removed]",
      "text/plain": [
       "<Figure size 432x288 with 1 Axes>"
      ]
     },
     "metadata": {
      "needs_background": "light"
     },
     "output_type": "display_data"
    }
   ],
   "source": [
    "import matplotlib.pyplot as plt\n",
    "hot_cals = cereals_df[cereals_df['type'] == 'H']['calories']\n",
    "cold_cals = cereals_df[cereals_df['type'] == 'C']['calories']\n",
    "\n",
    "plt.boxplot([hot_cals, cold_cals], labels=['Hot Cereals', 'Cold Cereals'])\n",
    "plt.title('Calories for Hot vs Cold Cereals')\n",
    "plt.ylabel('Calories')\n",
    "plt.show()"
   ]
  },
  {
   "cell_type": "markdown",
   "id": "10d5f913",
   "metadata": {},
   "source": [
    "### Q7) Are the attributes calories and consumer rating correlated?"
   ]
  },
  {
   "cell_type": "code",
   "execution_count": 21,
   "id": "29839dea",
   "metadata": {},
   "outputs": [
    {
     "name": "stdout",
     "output_type": "stream",
     "text": [
      "Correlation between calories and consumer rating: -0.5697325224975478\n"
     ]
    }
   ],
   "source": [
    "correlation = cereals_df['calories'].corr(cereals_df['rating'])\n",
    "print('Correlation between calories and consumer rating:', correlation)"
   ]
  },
  {
   "cell_type": "markdown",
   "id": "ae3d4f7b",
   "metadata": {},
   "source": [
    "### Q8) Are the attributes mfr and consumer rating correlated?"
   ]
  },
  {
   "cell_type": "code",
   "execution_count": 39,
   "id": "46b63b98",
   "metadata": {},
   "outputs": [
    {
     "name": "stdout",
     "output_type": "stream",
     "text": [
      "        rating\n",
      "rating     1.0\n"
     ]
    }
   ],
   "source": [
    "c = cereals_df[['mfr', 'rating']].corr()\n",
    "print(c)"
   ]
  },
  {
   "cell_type": "markdown",
   "id": "5cac6feb",
   "metadata": {},
   "source": [
    "### Q9) Which is the best Vs worst cereal in terms of user rating?"
   ]
  },
  {
   "cell_type": "code",
   "execution_count": 25,
   "id": "0600405c",
   "metadata": {},
   "outputs": [
    {
     "name": "stdout",
     "output_type": "stream",
     "text": [
      "Best cereal: Shredded Wheat 'n'Bran\n",
      "Worst cereal: Cap'n'Crunch\n"
     ]
    }
   ],
   "source": [
    "best_cereal = cereals_df.loc[cereals_df['rating'].idxmax(), 'name']\n",
    "worst_cereal = cereals_df.loc[cereals_df['rating'].idxmin(), 'name']\n",
    "\n",
    "print('Best cereal:', best_cereal)\n",
    "print('Worst cereal:', worst_cereal)"
   ]
  },
  {
   "cell_type": "markdown",
   "id": "2e030f23",
   "metadata": {},
   "source": [
    "### Q10) Which is the best Vs worst cereal in terms of calories?"
   ]
  },
  {
   "cell_type": "code",
   "execution_count": 26,
   "id": "62ddc940",
   "metadata": {},
   "outputs": [
    {
     "name": "stdout",
     "output_type": "stream",
     "text": [
      "Most caloric cereal: 100% Natural Bran\n",
      "Least caloric cereal: Bran Chex\n"
     ]
    }
   ],
   "source": [
    "most_caloric_cereal = cereals_df.loc[cereals_df['calories'].idxmax(), 'name']\n",
    "least_caloric_cereal = cereals_df.loc[cereals_df['calories'].idxmin(), 'name']\n",
    "\n",
    "print('Most caloric cereal:', most_caloric_cereal)\n",
    "print('Least caloric cereal:', least_caloric_cereal)"
   ]
  },
  {
   "cell_type": "markdown",
   "id": "71c7f037",
   "metadata": {},
   "source": [
    "### Q11) Rate the top 5 cereals in terms of user rating?"
   ]
  },
  {
   "cell_type": "code",
   "execution_count": 28,
   "id": "aa0c6bde",
   "metadata": {},
   "outputs": [
    {
     "name": "stdout",
     "output_type": "stream",
     "text": [
      "Top rated cereals:\n",
      "64       Shredded Wheat 'n'Bran\n",
      "65    Shredded Wheat spoon size\n",
      "0                     100% Bran\n",
      "63               Shredded Wheat\n",
      "20       Cream of Wheat (Quick)\n",
      "Name: name, dtype: object\n"
     ]
    }
   ],
   "source": [
    "tr = cereals_df.sort_values(by='rating', ascending=False).head(5)\n",
    "print('Top rated cereals:\\n', tr['name'], sep=\"\")"
   ]
  },
  {
   "cell_type": "markdown",
   "id": "eab66dc9",
   "metadata": {},
   "source": [
    "### Q12) Identify the cereal with the highest sodium."
   ]
  },
  {
   "cell_type": "code",
   "execution_count": 37,
   "id": "3a6cf8f3",
   "metadata": {},
   "outputs": [
    {
     "name": "stdout",
     "output_type": "stream",
     "text": [
      "Cereal with the highest sodium: Cheerios\n"
     ]
    }
   ],
   "source": [
    "hs = cereals_df.loc[cereals_df['sodium'].idxmax(), 'name']\n",
    "print('Cereal with the highest sodium:', hs)"
   ]
  },
  {
   "cell_type": "markdown",
   "id": "c9cae4d8",
   "metadata": {},
   "source": [
    "### Q13) Identify the cereal with the lowest carbohydrate."
   ]
  },
  {
   "cell_type": "code",
   "execution_count": 30,
   "id": "3265e798",
   "metadata": {},
   "outputs": [
    {
     "name": "stdout",
     "output_type": "stream",
     "text": [
      "Cereal with the lowest carbohydrate: 100% Bran\n"
     ]
    }
   ],
   "source": [
    "lc = cereals_df.loc[cereals_df['carbo'].idxmin(), 'name']\n",
    "print('Cereal with the lowest carbohydrate:', lc)"
   ]
  },
  {
   "cell_type": "markdown",
   "id": "6ddb437a",
   "metadata": {},
   "source": [
    "### Q14) Are the variable shelf and sugar correlated?"
   ]
  },
  {
   "cell_type": "code",
   "execution_count": 31,
   "id": "94f55240",
   "metadata": {},
   "outputs": [
    {
     "name": "stdout",
     "output_type": "stream",
     "text": [
      "Correlation between shelf and sugar: 0.06741094488984592\n"
     ]
    }
   ],
   "source": [
    "correlation = cereals_df['shelf'].corr(cereals_df['sugars'])\n",
    "print('Correlation between shelf and sugar:', correlation)"
   ]
  },
  {
   "cell_type": "markdown",
   "id": "6845fe7a",
   "metadata": {},
   "source": [
    "### Q15) Identify the manufacturer of the cereal with the highest sugar content."
   ]
  },
  {
   "cell_type": "code",
   "execution_count": 32,
   "id": "f9cebb0f",
   "metadata": {},
   "outputs": [
    {
     "name": "stdout",
     "output_type": "stream",
     "text": [
      "Manufacturer of the cereal with the highest sugar content: P\n"
     ]
    }
   ],
   "source": [
    "m = cereals_df.loc[cereals_df['sugars'].idxmax(), 'mfr']\n",
    "print('Manufacturer of the cereal with the highest sugar content:', m)"
   ]
  },
  {
   "cell_type": "markdown",
   "id": "48a6c929",
   "metadata": {},
   "source": [
    "### Q16) Replace missing values with mean"
   ]
  },
  {
   "cell_type": "code",
   "execution_count": 36,
   "id": "3206d9c1",
   "metadata": {},
   "outputs": [
    {
     "name": "stdout",
     "output_type": "stream",
     "text": [
      "                         name mfr type  calories  protein  fat  sodium  fiber  \\\n",
      "0                   100% Bran   N    C       110        4    1     130    2.0   \n",
      "1           100% Natural Bran   Q    C       120        3    5     180    2.0   \n",
      "2                    All-Bran   K    C       110        4    1     260    2.0   \n",
      "3   All-Bran with Extra Fiber   K    C       110        4    0     140    2.0   \n",
      "4              Almond Delight   R    C       110        2    2     200    1.0   \n",
      "..                        ...  ..  ...       ...      ...  ...     ...    ...   \n",
      "72                    Triples   G    C       110        2    1     250    0.0   \n",
      "73                       Trix   G    C       110        1    1     140    0.0   \n",
      "74                 Wheat Chex   R    C       100        3    1     230    3.0   \n",
      "75                   Wheaties   G    C       100        3    1     200    3.0   \n",
      "76        Wheaties Honey Gold   G    C       110        2    1     200    1.0   \n",
      "\n",
      "    carbo  sugars      potass  vitamins  shelf  weight  cups     rating  \n",
      "0     5.0     6.0   90.000000        25      3     1.0  0.33  68.402973  \n",
      "1     8.0     8.0  135.000000        25      3     1.0  1.00  33.983679  \n",
      "2     7.0     5.0   90.000000        25      3     1.0  0.33  59.425505  \n",
      "3     8.0     0.0   90.000000        25      3     1.0  0.50  40.400208  \n",
      "4    14.0     8.0   98.666667        25      3     1.0  0.75  34.384843  \n",
      "..    ...     ...         ...       ...    ...     ...   ...        ...  \n",
      "72   21.0     3.0   60.000000        25      3     1.0  0.75  39.106174  \n",
      "73   13.0    12.0   25.000000        25      2     1.0  1.00  27.753301  \n",
      "74   17.0     3.0  115.000000        25      1     1.0  0.67  49.787445  \n",
      "75   17.0     3.0  110.000000        25      1     1.0  1.00  51.592193  \n",
      "76   16.0     8.0   60.000000        25      1     1.0  0.75  36.187559  \n",
      "\n",
      "[77 rows x 16 columns]\n"
     ]
    },
    {
     "name": "stderr",
     "output_type": "stream",
     "text": [
      "C:\\Users\\codes\\AppData\\Local\\Temp\\ipykernel_32412\\3739426369.py:3: FutureWarning: Dropping of nuisance columns in DataFrame reductions (with 'numeric_only=None') is deprecated; in a future version this will raise TypeError.  Select only valid columns before calling the reduction.\n",
      "  mean_values = cereals_df.mean()\n"
     ]
    }
   ],
   "source": [
    "import numpy as np\n",
    "cereals_df.replace(-1, np.nan, inplace=True)\n",
    "mean_values = cereals_df.mean()\n",
    "cereals_df.fillna(mean_values, inplace=True)\n",
    "print(cereals_df)"
   ]
  },
  {
   "cell_type": "markdown",
   "id": "d3b55f96",
   "metadata": {},
   "source": [
    "### Q17) Find outliers using 1.5 * IQR"
   ]
  },
  {
   "cell_type": "code",
   "execution_count": 34,
   "id": "f7b90f4e",
   "metadata": {},
   "outputs": [
    {
     "name": "stdout",
     "output_type": "stream",
     "text": [
      "            name mfr type  calories  protein  fat  sodium  fiber  carbo  \\\n",
      "30  Golden Crisp   P    C       100        2    0      45    0.0   11.0   \n",
      "\n",
      "    sugars  potass  vitamins  shelf  weight  cups     rating  \n",
      "30    15.0    40.0        25      1     1.0  0.88  35.252444  \n"
     ]
    },
    {
     "name": "stderr",
     "output_type": "stream",
     "text": [
      "C:\\Users\\codes\\AppData\\Local\\Temp\\ipykernel_32412\\3035148300.py:6: FutureWarning: Automatic reindexing on DataFrame vs Series comparisons is deprecated and will raise ValueError in a future version. Do `left, right = left.align(right, axis=1, copy=False)` before e.g. `left == right`\n",
      "  outliers = ((cereals_df < lower_limit) | (cereals_df > upper_limit)).any(axis=1)\n"
     ]
    }
   ],
   "source": [
    "q1 = cereals_df.quantile(0.25)\n",
    "q3 = cereals_df.quantile(0.75)\n",
    "iqr = q3 - q1\n",
    "lower_limit = (q1 - 1.5 * iqr)\n",
    "upper_limit = (q3 + 1.5 * iqr)\n",
    "outliers = ((cereals_df < lower_limit) | (cereals_df > upper_limit)).any(axis=1)\n",
    "print(cereals_df[outliers])"
   ]
  }
 ],
 "metadata": {
  "kernelspec": {
   "display_name": "Python 3 (ipykernel)",
   "language": "python",
   "name": "python3"
  },
  "language_info": {
   "codemirror_mode": {
    "name": "ipython",
    "version": 3
   },
   "file_extension": ".py",
   "mimetype": "text/x-python",
   "name": "python",
   "nbconvert_exporter": "python",
   "pygments_lexer": "ipython3",
   "version": "3.9.12"
  }
 },
 "nbformat": 4,
 "nbformat_minor": 5
}
