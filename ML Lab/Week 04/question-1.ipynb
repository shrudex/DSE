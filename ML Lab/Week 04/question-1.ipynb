{
 "cells": [
  {
   "cell_type": "markdown",
   "id": "776e6731",
   "metadata": {},
   "source": [
    "# Question - 1 "
   ]
  },
  {
   "cell_type": "code",
   "execution_count": 7,
   "id": "9e4968dd",
   "metadata": {},
   "outputs": [],
   "source": [
    "import pandas as pd\n",
    "import numpy as np\n",
    "import matplotlib.pyplot as plt\n",
    "import seaborn as sns\n",
    "import random\n",
    "\n",
    "from sklearn.linear_model import LinearRegression\n",
    "from sklearn.model_selection import train_test_split\n",
    "from sklearn.metrics import r2_score\n",
    "from sklearn.metrics import mean_absolute_error, mean_squared_error"
   ]
  },
  {
   "cell_type": "markdown",
   "id": "0224bb0f",
   "metadata": {},
   "source": [
    "## (a) Sample X-Y"
   ]
  },
  {
   "cell_type": "code",
   "execution_count": 81,
   "id": "ac60dbfd",
   "metadata": {},
   "outputs": [
    {
     "data": {
      "text/html": [
       "<div>\n",
       "<style scoped>\n",
       "    .dataframe tbody tr th:only-of-type {\n",
       "        vertical-align: middle;\n",
       "    }\n",
       "\n",
       "    .dataframe tbody tr th {\n",
       "        vertical-align: top;\n",
       "    }\n",
       "\n",
       "    .dataframe thead th {\n",
       "        text-align: right;\n",
       "    }\n",
       "</style>\n",
       "<table border=\"1\" class=\"dataframe\">\n",
       "  <thead>\n",
       "    <tr style=\"text-align: right;\">\n",
       "      <th></th>\n",
       "      <th>X</th>\n",
       "      <th>Y</th>\n",
       "    </tr>\n",
       "  </thead>\n",
       "  <tbody>\n",
       "    <tr>\n",
       "      <th>0</th>\n",
       "      <td>0.623953</td>\n",
       "      <td>3.997383</td>\n",
       "    </tr>\n",
       "    <tr>\n",
       "      <th>1</th>\n",
       "      <td>0.115618</td>\n",
       "      <td>2.277968</td>\n",
       "    </tr>\n",
       "    <tr>\n",
       "      <th>2</th>\n",
       "      <td>0.317285</td>\n",
       "      <td>3.117952</td>\n",
       "    </tr>\n",
       "    <tr>\n",
       "      <th>3</th>\n",
       "      <td>0.414826</td>\n",
       "      <td>3.325209</td>\n",
       "    </tr>\n",
       "    <tr>\n",
       "      <th>4</th>\n",
       "      <td>0.866309</td>\n",
       "      <td>4.567452</td>\n",
       "    </tr>\n",
       "  </tbody>\n",
       "</table>\n",
       "</div>"
      ],
      "text/plain": [
       "          X         Y\n",
       "0  0.623953  3.997383\n",
       "1  0.115618  2.277968\n",
       "2  0.317285  3.117952\n",
       "3  0.414826  3.325209\n",
       "4  0.866309  4.567452"
      ]
     },
     "execution_count": 81,
     "metadata": {},
     "output_type": "execute_result"
    }
   ],
   "source": [
    "#creating random dataset\n",
    "\n",
    "#set the random seed to ensure reproducibility\n",
    "random.seed(123)\n",
    "\n",
    "#define the number of samples to generate\n",
    "n_samples = 50\n",
    "\n",
    "#generate random values for X and calculate Y based on a linear equation with some random noise added\n",
    "X = np.random.uniform(0, 1, n_samples)\n",
    "Y = 2 + 3*X + np.random.normal(0, 0.1, n_samples)\n",
    "\n",
    "#create a dictionary of X and Y values and convert it to a pandas dataframe\n",
    "data = {'X': X, 'Y': Y}\n",
    "df = pd.DataFrame(data)\n",
    "\n",
    "#convert X and Y to 2D arrays\n",
    "X = np.array(X).reshape(-1, 1)\n",
    "Y = np.array(Y).reshape(-1, 1)\n",
    "\n",
    "#split the dataset into training and testing sets\n",
    "X_train, X_test, Y_train, Y_test = train_test_split(X, Y, test_size=1/4, random_state=0)\n",
    "\n",
    "df.head()"
   ]
  },
  {
   "cell_type": "code",
   "execution_count": 82,
   "id": "2d5bd8c9",
   "metadata": {
    "scrolled": true
   },
   "outputs": [
    {
     "data": {
      "text/plain": [
       "LinearRegression()"
      ]
     },
     "execution_count": 82,
     "metadata": {},
     "output_type": "execute_result"
    }
   ],
   "source": [
    "#create a LinearRegression object\n",
    "regressor = LinearRegression()\n",
    "\n",
    "#fit the training data to the model\n",
    "regressor.fit(X_train, Y_train)"
   ]
  },
  {
   "cell_type": "markdown",
   "id": "1463404c",
   "metadata": {},
   "source": [
    "### SLR COEFFICIENTS"
   ]
  },
  {
   "cell_type": "code",
   "execution_count": 83,
   "id": "28d5fcee",
   "metadata": {},
   "outputs": [
    {
     "name": "stdout",
     "output_type": "stream",
     "text": [
      "slope = [[2.9854074]] and Intercept= [2.00478306]\n"
     ]
    }
   ],
   "source": [
    "#get the slope and intercept of the fitted line\n",
    "slope = regressor.coef_\n",
    "intercept = regressor.intercept_\n",
    "\n",
    "#print SLR coefficient and intercept\n",
    "print(\"slope =\", slope, \"and Intercept=\", intercept)"
   ]
  },
  {
   "cell_type": "markdown",
   "id": "6bdc847c",
   "metadata": {},
   "source": [
    "### REGRESSION GRAPH"
   ]
  },
  {
   "cell_type": "code",
   "execution_count": 10,
   "id": "e132ad9e",
   "metadata": {},
   "outputs": [
    {
     "data": {
      "text/plain": [
       "array([3.5313551 , 3.51225346, 4.49573468, 4.23791775, 4.77292412,\n",
       "       4.29051925, 4.47871315, 3.44796511, 4.15113389, 4.46715321,\n",
       "       3.74706487, 2.95382892, 4.0813703 , 2.26623106, 3.55326059,\n",
       "       4.84266742, 4.14775144, 2.32641043, 4.62422944, 2.99153391,\n",
       "       2.28832108, 3.16239491, 4.16266597, 2.98271257, 4.22135611,\n",
       "       2.47918839, 2.27687036, 3.54566468, 2.62270788, 2.45005297,\n",
       "       3.85171385, 4.87802886, 4.00710924, 2.71299613, 2.36806881,\n",
       "       4.7523546 , 4.62856647])"
      ]
     },
     "execution_count": 10,
     "metadata": {},
     "output_type": "execute_result"
    }
   ],
   "source": [
    "#generate predictions for the training data\n",
    "Y_pred_train = regressor.predict(X_train)\n",
    "Y_pred_train.flatten()"
   ]
  },
  {
   "cell_type": "code",
   "execution_count": 11,
   "id": "4e2a5513",
   "metadata": {},
   "outputs": [
    {
     "data": {
      "image/png": "[encoded data removed]",
      "text/plain": [
       "<Figure size 432x288 with 1 Axes>"
      ]
     },
     "metadata": {
      "needs_background": "light"
     },
     "output_type": "display_data"
    }
   ],
   "source": [
    "#visualize the predictions for the training data\n",
    "plt.scatter(X_train, Y_train, color='black')\n",
    "plt.plot(X_train, Y_pred_train, color='yellow', linewidth=5)\n",
    "plt.xlabel('Actual')\n",
    "plt.ylabel('Predicted')\n",
    "plt.title('Actual vs Predicted for Training Data')\n",
    "plt.show()"
   ]
  },
  {
   "cell_type": "code",
   "execution_count": 13,
   "id": "002ad96f",
   "metadata": {},
   "outputs": [
    {
     "data": {
      "text/plain": [
       "0.9847293305842313"
      ]
     },
     "execution_count": 13,
     "metadata": {},
     "output_type": "execute_result"
    }
   ],
   "source": [
    "#calculate the R-squared value for the training data\n",
    "r2_train=r2_score(Y_train, Y_pred_train)\n",
    "r2_train"
   ]
  },
  {
   "cell_type": "code",
   "execution_count": 15,
   "id": "f6b63f31",
   "metadata": {},
   "outputs": [
    {
     "data": {
      "text/plain": [
       "array([3.90348259, 3.23120715, 2.85807352, 4.10738483, 2.30694965,\n",
       "       4.23896013, 4.76214395, 4.55670154, 2.86452659, 3.80044241,\n",
       "       4.86914636, 4.51059892, 2.72333543])"
      ]
     },
     "execution_count": 15,
     "metadata": {},
     "output_type": "execute_result"
    }
   ],
   "source": [
    "#predict the values for the testing set and flatten to a 1D array\n",
    "Y_pred_test = regressor.predict(X_test).flatten()\n",
    "Y_pred_test.flatten()"
   ]
  },
  {
   "cell_type": "code",
   "execution_count": 22,
   "id": "72d46248",
   "metadata": {},
   "outputs": [
    {
     "data": {
      "image/png": "[encoded data removed]",
      "text/plain": [
       "<Figure size 432x288 with 1 Axes>"
      ]
     },
     "metadata": {
      "needs_background": "light"
     },
     "output_type": "display_data"
    }
   ],
   "source": [
    "#plot the actual vs predicted values for the testing set\n",
    "plt.scatter(X_test, Y_test, color='black')\n",
    "plt.plot(X_test, Y_pred_test, color='orange', linewidth=5)\n",
    "plt.xlabel('Actual')\n",
    "plt.ylabel('Predicted')\n",
    "plt.title('Actual vs Predicted (Testing Set)')\n",
    "plt.show()"
   ]
  },
  {
   "cell_type": "code",
   "execution_count": 23,
   "id": "d849fad9",
   "metadata": {
    "scrolled": true
   },
   "outputs": [
    {
     "data": {
      "text/plain": [
       "0.9828471752636287"
      ]
     },
     "execution_count": 23,
     "metadata": {},
     "output_type": "execute_result"
    }
   ],
   "source": [
    "#calculate the R-squared value for the testing set\n",
    "r_squared_test = r2_score(Y_test, Y_pred_test)\n",
    "r_squared_test"
   ]
  },
  {
   "cell_type": "markdown",
   "id": "9ba69997",
   "metadata": {},
   "source": [
    "### PREDICT THE OUTPUT FOR A NEW DATAPOINT"
   ]
  },
  {
   "cell_type": "code",
   "execution_count": 30,
   "id": "222e5908",
   "metadata": {},
   "outputs": [
    {
     "data": {
      "text/plain": [
       "array([[3.47545864]])"
      ]
     },
     "execution_count": 30,
     "metadata": {},
     "output_type": "execute_result"
    }
   ],
   "source": [
    "#predict the output for a new datapoint\n",
    "new_data = [[0.49494]]\n",
    "new_prediction = regressor.predict(new_data)\n",
    "new_prediction"
   ]
  },
  {
   "cell_type": "code",
   "execution_count": 32,
   "id": "72867322",
   "metadata": {},
   "outputs": [],
   "source": [
    "#flatten the arrays\n",
    "Y_test_flat = Y_test.flatten()\n",
    "Y_pred_test_flat = Y_pred_test.flatten()\n",
    "diff_flat = (Y_test - Y_pred_test).flatten()"
   ]
  },
  {
   "cell_type": "code",
   "execution_count": 91,
   "id": "b3650f7e",
   "metadata": {
    "scrolled": true
   },
   "outputs": [
    {
     "data": {
      "text/html": [
       "<div>\n",
       "<style scoped>\n",
       "    .dataframe tbody tr th:only-of-type {\n",
       "        vertical-align: middle;\n",
       "    }\n",
       "\n",
       "    .dataframe tbody tr th {\n",
       "        vertical-align: top;\n",
       "    }\n",
       "\n",
       "    .dataframe thead th {\n",
       "        text-align: right;\n",
       "    }\n",
       "</style>\n",
       "<table border=\"1\" class=\"dataframe\">\n",
       "  <thead>\n",
       "    <tr style=\"text-align: right;\">\n",
       "      <th></th>\n",
       "      <th>Actual Value</th>\n",
       "      <th>Predicted Value</th>\n",
       "      <th>Difference</th>\n",
       "    </tr>\n",
       "  </thead>\n",
       "  <tbody>\n",
       "    <tr>\n",
       "      <th>0</th>\n",
       "      <td>3.865134</td>\n",
       "      <td>3.903483</td>\n",
       "      <td>-1.278199</td>\n",
       "    </tr>\n",
       "    <tr>\n",
       "      <th>1</th>\n",
       "      <td>3.146832</td>\n",
       "      <td>3.231207</td>\n",
       "      <td>1.121080</td>\n",
       "    </tr>\n",
       "    <tr>\n",
       "      <th>2</th>\n",
       "      <td>2.823581</td>\n",
       "      <td>2.858074</td>\n",
       "      <td>-0.381167</td>\n",
       "    </tr>\n",
       "  </tbody>\n",
       "</table>\n",
       "</div>"
      ],
      "text/plain": [
       "   Actual Value  Predicted Value  Difference\n",
       "0      3.865134         3.903483   -1.278199\n",
       "1      3.146832         3.231207    1.121080\n",
       "2      2.823581         2.858074   -0.381167"
      ]
     },
     "execution_count": 91,
     "metadata": {},
     "output_type": "execute_result"
    }
   ],
   "source": [
    "#create a dataframe to compare actual and predicted values\n",
    "pred_df = pd.DataFrame({\n",
    "    'Actual Value': Y_test_flat,\n",
    "    'Predicted Value': Y_pred_test_flat,\n",
    "    'Difference': (Y_test.flatten() - Y_pred_test.flatten()).ravel()\n",
    "})\n",
    "pred_df.head(3)"
   ]
  },
  {
   "cell_type": "markdown",
   "id": "e9fd3141",
   "metadata": {},
   "source": [
    "### SLR ERRORS"
   ]
  },
  {
   "cell_type": "code",
   "execution_count": 50,
   "id": "cfbeb98f",
   "metadata": {
    "scrolled": true
   },
   "outputs": [
    {
     "data": {
      "text/plain": [
       "0.08799104994195407"
      ]
     },
     "execution_count": 50,
     "metadata": {},
     "output_type": "execute_result"
    }
   ],
   "source": [
    "#calculate Mean Absolute Error using inbuilt function\n",
    "mae_inbuilt = mean_absolute_error(Y_test, Y_pred_test)\n",
    "mae_inbuilt"
   ]
  },
  {
   "cell_type": "code",
   "execution_count": 51,
   "id": "4e39f661",
   "metadata": {},
   "outputs": [
    {
     "data": {
      "text/plain": [
       "0.012851962203605856"
      ]
     },
     "execution_count": 51,
     "metadata": {},
     "output_type": "execute_result"
    }
   ],
   "source": [
    "#calculate Mean Squared Error using inbuilt function\n",
    "mse_inbuilt = mean_squared_error(Y_test, Y_pred_test)\n",
    "mse_inbuilt"
   ]
  },
  {
   "cell_type": "code",
   "execution_count": 52,
   "id": "d3c596cc",
   "metadata": {},
   "outputs": [
    {
     "data": {
      "text/plain": [
       "242.25109922702487"
      ]
     },
     "execution_count": 52,
     "metadata": {},
     "output_type": "execute_result"
    }
   ],
   "source": [
    "#calculate Sum of Squared Residuals\n",
    "ssr = ((Y_pred_test - Y_test)**2).sum()\n",
    "ssr"
   ]
  },
  {
   "cell_type": "code",
   "execution_count": 53,
   "id": "6ef47d7c",
   "metadata": {},
   "outputs": [
    {
     "data": {
      "text/plain": [
       "0.970814985737058"
      ]
     },
     "execution_count": 53,
     "metadata": {},
     "output_type": "execute_result"
    }
   ],
   "source": [
    "#calculate Mean Absolute Error manually\n",
    "mae_manual = np.mean(np.abs(Y_test - Y_pred_test))\n",
    "mae_manual"
   ]
  },
  {
   "cell_type": "code",
   "execution_count": 54,
   "id": "62e8e32d",
   "metadata": {},
   "outputs": [
    {
     "data": {
      "text/plain": [
       "1.4334384569646441"
      ]
     },
     "execution_count": 54,
     "metadata": {},
     "output_type": "execute_result"
    }
   ],
   "source": [
    "#calculate Mean Squared Error manually\n",
    "mse_manual = np.mean((Y_test - Y_pred_test)**2)\n",
    "mse_manual"
   ]
  },
  {
   "cell_type": "code",
   "execution_count": 55,
   "id": "e05b72e1",
   "metadata": {
    "scrolled": true
   },
   "outputs": [
    {
     "name": "stdout",
     "output_type": "stream",
     "text": [
      "Mean Absolute Error (inbuilt): 0.08799104994195407\n",
      "Mean Absolute Error (manual): 0.970814985737058\n",
      "Mean Squared Error (inbuilt): 0.012851962203605856\n",
      "Mean Squared Error (manual): 1.4334384569646441\n",
      "Sum of Squared Residuals: 242.25109922702487\n"
     ]
    }
   ],
   "source": [
    "#print the calculated errors\n",
    "print(\"Mean Absolute Error (inbuilt):\", mae_inbuilt)\n",
    "print(\"Mean Absolute Error (manual):\", mae_manual)\n",
    "print(\"Mean Squared Error (inbuilt):\", mse_inbuilt)\n",
    "print(\"Mean Squared Error (manual):\", mse_manual)\n",
    "print(\"Sum of Squared Residuals:\", ssr)"
   ]
  },
  {
   "cell_type": "markdown",
   "id": "7e5c8955",
   "metadata": {},
   "source": [
    "## (b) Student marks "
   ]
  },
  {
   "cell_type": "code",
   "execution_count": 57,
   "id": "d6cfa393",
   "metadata": {},
   "outputs": [
    {
     "data": {
      "text/html": [
       "<div>\n",
       "<style scoped>\n",
       "    .dataframe tbody tr th:only-of-type {\n",
       "        vertical-align: middle;\n",
       "    }\n",
       "\n",
       "    .dataframe tbody tr th {\n",
       "        vertical-align: top;\n",
       "    }\n",
       "\n",
       "    .dataframe thead th {\n",
       "        text-align: right;\n",
       "    }\n",
       "</style>\n",
       "<table border=\"1\" class=\"dataframe\">\n",
       "  <thead>\n",
       "    <tr style=\"text-align: right;\">\n",
       "      <th></th>\n",
       "      <th>ML</th>\n",
       "      <th>DSA</th>\n",
       "    </tr>\n",
       "  </thead>\n",
       "  <tbody>\n",
       "    <tr>\n",
       "      <th>0</th>\n",
       "      <td>13.929384</td>\n",
       "      <td>8.624361</td>\n",
       "    </tr>\n",
       "    <tr>\n",
       "      <th>1</th>\n",
       "      <td>5.722787</td>\n",
       "      <td>6.354952</td>\n",
       "    </tr>\n",
       "    <tr>\n",
       "      <th>2</th>\n",
       "      <td>4.537029</td>\n",
       "      <td>5.778760</td>\n",
       "    </tr>\n",
       "    <tr>\n",
       "      <th>3</th>\n",
       "      <td>11.026295</td>\n",
       "      <td>7.663327</td>\n",
       "    </tr>\n",
       "    <tr>\n",
       "      <th>4</th>\n",
       "      <td>14.389379</td>\n",
       "      <td>8.910831</td>\n",
       "    </tr>\n",
       "  </tbody>\n",
       "</table>\n",
       "</div>"
      ],
      "text/plain": [
       "          ML       DSA\n",
       "0  13.929384  8.624361\n",
       "1   5.722787  6.354952\n",
       "2   4.537029  5.778760\n",
       "3  11.026295  7.663327\n",
       "4  14.389379  8.910831"
      ]
     },
     "execution_count": 57,
     "metadata": {},
     "output_type": "execute_result"
    }
   ],
   "source": [
    "#set the random seed for reproducibility\n",
    "np.random.seed(123)\n",
    "\n",
    "#generate a random data set\n",
    "n = 20\n",
    "ML = np.random.uniform(0, 20, n)\n",
    "DSA = 2 + 0.2*ML + np.random.uniform(0, 1, n)\n",
    "DSA = DSA / np.max(DSA) * 10\n",
    "\n",
    "#create a dictionary and convert it to a dataframe\n",
    "sample = {'ML': ML,\n",
    "          'DSA': DSA}\n",
    "df = pd.DataFrame(sample)\n",
    "\n",
    "df.head()"
   ]
  },
  {
   "cell_type": "code",
   "execution_count": 58,
   "id": "ba325271",
   "metadata": {},
   "outputs": [],
   "source": [
    "#convert ML and DSA to 2D arrays\n",
    "ML = np.array(ML).reshape(-1,1)\n",
    "DSA = np.array(DSA).reshape(-1,1)\n",
    "\n",
    "#split the dataset into training and testing sets\n",
    "ML_train, ML_test, DSA_train, DSA_test = train_test_split(ML, DSA, test_size=1/4, random_state=0)"
   ]
  },
  {
   "cell_type": "code",
   "execution_count": 62,
   "id": "c324bc44",
   "metadata": {},
   "outputs": [
    {
     "data": {
      "text/plain": [
       "LinearRegression()"
      ]
     },
     "execution_count": 62,
     "metadata": {},
     "output_type": "execute_result"
    }
   ],
   "source": [
    "#create a linear regression model\n",
    "lr_model = LinearRegression()\n",
    "\n",
    "#train the model using the training data\n",
    "lr_model.fit(ML_train, DSA_train)"
   ]
  },
  {
   "cell_type": "markdown",
   "id": "d00e2051",
   "metadata": {},
   "source": [
    "### SLR COEFFICIENTS"
   ]
  },
  {
   "cell_type": "code",
   "execution_count": 63,
   "id": "844ac092",
   "metadata": {},
   "outputs": [
    {
     "name": "stdout",
     "output_type": "stream",
     "text": [
      "Coefficient (m): [[0.29803071]]\n"
     ]
    }
   ],
   "source": [
    "#get the coefficients of the linear regression model\n",
    "m = lr_model.coef_\n",
    "print(\"Coefficient (m):\", m)"
   ]
  },
  {
   "cell_type": "code",
   "execution_count": 64,
   "id": "5cb685ea",
   "metadata": {},
   "outputs": [
    {
     "name": "stdout",
     "output_type": "stream",
     "text": [
      "Intercept (c): [4.19314361]\n"
     ]
    }
   ],
   "source": [
    "#get the intercept of the linear regression model\n",
    "c = lr_model.intercept_\n",
    "print(\"Intercept (c):\", c)"
   ]
  },
  {
   "cell_type": "code",
   "execution_count": 65,
   "id": "f7de9ad9",
   "metadata": {
    "scrolled": true
   },
   "outputs": [
    {
     "data": {
      "text/plain": [
       "array([ 5.23894382, 10.03910055,  4.54886052,  8.48162052,  5.54531759,\n",
       "        6.71511795,  6.56573182,  6.53040483,  8.27514943,  5.28090639,\n",
       "        8.5387276 ,  7.47931821,  8.34452768,  8.59204945,  6.80730353])"
      ]
     },
     "execution_count": 65,
     "metadata": {},
     "output_type": "execute_result"
    }
   ],
   "source": [
    "#predict DSA values using the training data\n",
    "DSA_pred_train = lr_model.predict(ML_train).flatten()\n",
    "DSA_pred_train"
   ]
  },
  {
   "cell_type": "markdown",
   "id": "0cdf0a95",
   "metadata": {},
   "source": [
    "### REGRESSION GRAPH"
   ]
  },
  {
   "cell_type": "code",
   "execution_count": 69,
   "id": "786469b6",
   "metadata": {},
   "outputs": [
    {
     "data": {
      "image/png": "[encoded data removed]",
      "text/plain": [
       "<Figure size 432x288 with 1 Axes>"
      ]
     },
     "metadata": {
      "needs_background": "light"
     },
     "output_type": "display_data"
    }
   ],
   "source": [
    "#plot actual vs predicted values for the training data\n",
    "plt.scatter(ML_train, DSA_train, color='cyan')\n",
    "plt.plot(ML_train, DSA_pred_train, color='purple', linewidth=3)\n",
    "plt.xlabel('ML')\n",
    "plt.ylabel('DSA')\n",
    "plt.title('Actual vs Predicted (Training Data)')\n",
    "plt.show()"
   ]
  },
  {
   "cell_type": "code",
   "execution_count": 70,
   "id": "778bcf72",
   "metadata": {},
   "outputs": [
    {
     "name": "stdout",
     "output_type": "stream",
     "text": [
      "R-squared score (training data): 0.9702040391751029\n"
     ]
    }
   ],
   "source": [
    "#get the R-squared score for the training data\n",
    "r2_train = r2_score(DSA_train, DSA_pred_train)\n",
    "print(\"R-squared score (training data):\", r2_train)"
   ]
  },
  {
   "cell_type": "code",
   "execution_count": 71,
   "id": "54b06aa6",
   "metadata": {},
   "outputs": [
    {
     "data": {
      "text/plain": [
       "array([7.36151624, 5.89870977, 7.36316264, 7.0597931 , 6.23869534])"
      ]
     },
     "execution_count": 71,
     "metadata": {},
     "output_type": "execute_result"
    }
   ],
   "source": [
    "#predict DSA values using the testing data\n",
    "DSA_pred_test = lr_model.predict(ML_test).flatten()\n",
    "DSA_pred_test"
   ]
  },
  {
   "cell_type": "code",
   "execution_count": 77,
   "id": "18781deb",
   "metadata": {},
   "outputs": [
    {
     "data": {
      "image/png": "[encoded data removed]",
      "text/plain": [
       "<Figure size 432x288 with 1 Axes>"
      ]
     },
     "metadata": {
      "needs_background": "light"
     },
     "output_type": "display_data"
    }
   ],
   "source": [
    "#plot actual vs predicted values for the testing data\n",
    "plt.scatter(ML_test, DSA_test, color='brown')\n",
    "plt.plot(ML_test, DSA_pred_test, color='black', linewidth=3)\n",
    "plt.xlabel('ML')\n",
    "plt.ylabel('DSA')\n",
    "plt.title('Actual vs Predicted (Testing Data)')\n",
    "plt.show()"
   ]
  },
  {
   "cell_type": "code",
   "execution_count": 78,
   "id": "a343b4c8",
   "metadata": {},
   "outputs": [
    {
     "name": "stdout",
     "output_type": "stream",
     "text": [
      "R-squared score (testing data): 0.6422952886357938\n"
     ]
    }
   ],
   "source": [
    "#get the R-squared score for the testing data\n",
    "r2_test = r2_score(DSA_test, DSA_pred_test)\n",
    "print(\"R-squared score (testing data):\", r2_test)"
   ]
  },
  {
   "cell_type": "markdown",
   "id": "dd57cf90",
   "metadata": {},
   "source": [
    "### PREDICT THE OUTPUT FOR A NEW DATAPOINT"
   ]
  },
  {
   "cell_type": "code",
   "execution_count": 86,
   "id": "5fb84270",
   "metadata": {},
   "outputs": [
    {
     "data": {
      "text/plain": [
       "array([[7.17345067]])"
      ]
     },
     "execution_count": 86,
     "metadata": {},
     "output_type": "execute_result"
    }
   ],
   "source": [
    "new_data = [[10]]\n",
    "lr_model.predict(new_data)"
   ]
  },
  {
   "cell_type": "code",
   "execution_count": 80,
   "id": "26c0f5ed",
   "metadata": {},
   "outputs": [
    {
     "name": "stdout",
     "output_type": "stream",
     "text": [
      "   Actual DSA Value  Predicted DSA Value  Difference\n",
      "0          8.067606             7.361516    0.706089\n",
      "1          6.354952             5.898710    0.456242\n",
      "2          7.365570             7.363163    0.002408\n",
      "3          6.710494             7.059793   -0.349299\n",
      "4          5.512971             6.238695   -0.725724\n"
     ]
    }
   ],
   "source": [
    "#create a dataframe with actual and predicted DSA values and the difference between them\n",
    "pred_df = pd.DataFrame({\n",
    "    'Actual DSA Value': DSA_test.ravel(),\n",
    "    'Predicted DSA Value': DSA_pred_test.ravel(),\n",
    "    'Difference': (DSA_test.flatten() - DSA_pred_test.flatten()).ravel()\n",
    "})\n",
    "print(pred_df)"
   ]
  },
  {
   "cell_type": "markdown",
   "id": "b379bf9e",
   "metadata": {},
   "source": [
    "### SLR ERRORS"
   ]
  },
  {
   "cell_type": "code",
   "execution_count": 87,
   "id": "b63d8f31",
   "metadata": {
    "scrolled": false
   },
   "outputs": [
    {
     "data": {
      "text/plain": [
       "0.4479526027417993"
      ]
     },
     "execution_count": 87,
     "metadata": {},
     "output_type": "execute_result"
    }
   ],
   "source": [
    "#calculate Mean Absolute Error using inbuilt function\n",
    "mae_inbuilt = mean_absolute_error(DSA_test, DSA_pred_test)\n",
    "mae_inbuilt"
   ]
  },
  {
   "cell_type": "code",
   "execution_count": 88,
   "id": "422fb250",
   "metadata": {},
   "outputs": [
    {
     "data": {
      "text/plain": [
       "0.2710822230521982"
      ]
     },
     "execution_count": 88,
     "metadata": {},
     "output_type": "execute_result"
    }
   ],
   "source": [
    "#calculate Mean Squared Error using inbuilt function\n",
    "mse_inbuilt = mean_squared_error(DSA_test, DSA_pred_test)\n",
    "mse_inbuilt"
   ]
  },
  {
   "cell_type": "code",
   "execution_count": 89,
   "id": "8aa8d3b8",
   "metadata": {},
   "outputs": [
    {
     "data": {
      "text/plain": [
       "28.084556177489972"
      ]
     },
     "execution_count": 89,
     "metadata": {},
     "output_type": "execute_result"
    }
   ],
   "source": [
    "#calculate Sum of Squared Residuals\n",
    "ssr = ((DSA_pred_test - DSA_test)**2).sum()\n",
    "ssr"
   ]
  }
 ],
 "metadata": {
  "kernelspec": {
   "display_name": "Python 3 (ipykernel)",
   "language": "python",
   "name": "python3"
  },
  "language_info": {
   "codemirror_mode": {
    "name": "ipython",
    "version": 3
   },
   "file_extension": ".py",
   "mimetype": "text/x-python",
   "name": "python",
   "nbconvert_exporter": "python",
   "pygments_lexer": "ipython3",
   "version": "3.9.12"
  }
 },
 "nbformat": 4,
 "nbformat_minor": 5
}
