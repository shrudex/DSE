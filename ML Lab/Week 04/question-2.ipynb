{
 "cells": [
  {
   "cell_type": "markdown",
   "id": "92177aae",
   "metadata": {},
   "source": [
    "# Question - 02"
   ]
  },
  {
   "cell_type": "markdown",
   "id": "82488209",
   "metadata": {},
   "source": [
    "## (a) Student marks"
   ]
  },
  {
   "cell_type": "code",
   "execution_count": 32,
   "id": "49f83186",
   "metadata": {},
   "outputs": [],
   "source": [
    "#import necessary libraries\n",
    "import numpy as np\n",
    "import pandas as pd\n",
    "from sklearn.model_selection import train_test_split\n",
    "from sklearn.linear_model import LinearRegression\n",
    "from sklearn.metrics import r2_score\n",
    "import matplotlib.pyplot as plt\n",
    "from sklearn.metrics import mean_absolute_error, mean_squared_error"
   ]
  },
  {
   "cell_type": "code",
   "execution_count": 10,
   "id": "97d7f6d2",
   "metadata": {},
   "outputs": [
    {
     "data": {
      "text/html": [
       "<div>\n",
       "<style scoped>\n",
       "    .dataframe tbody tr th:only-of-type {\n",
       "        vertical-align: middle;\n",
       "    }\n",
       "\n",
       "    .dataframe tbody tr th {\n",
       "        vertical-align: top;\n",
       "    }\n",
       "\n",
       "    .dataframe thead th {\n",
       "        text-align: right;\n",
       "    }\n",
       "</style>\n",
       "<table border=\"1\" class=\"dataframe\">\n",
       "  <thead>\n",
       "    <tr style=\"text-align: right;\">\n",
       "      <th></th>\n",
       "      <th>OOPs</th>\n",
       "      <th>CSA</th>\n",
       "      <th>Finance</th>\n",
       "      <th>Grade</th>\n",
       "    </tr>\n",
       "  </thead>\n",
       "  <tbody>\n",
       "    <tr>\n",
       "      <th>0</th>\n",
       "      <td>8</td>\n",
       "      <td>49</td>\n",
       "      <td>31</td>\n",
       "      <td>5.723917</td>\n",
       "    </tr>\n",
       "    <tr>\n",
       "      <th>1</th>\n",
       "      <td>24</td>\n",
       "      <td>30</td>\n",
       "      <td>50</td>\n",
       "      <td>6.762647</td>\n",
       "    </tr>\n",
       "    <tr>\n",
       "      <th>2</th>\n",
       "      <td>3</td>\n",
       "      <td>48</td>\n",
       "      <td>45</td>\n",
       "      <td>5.345723</td>\n",
       "    </tr>\n",
       "    <tr>\n",
       "      <th>3</th>\n",
       "      <td>39</td>\n",
       "      <td>47</td>\n",
       "      <td>12</td>\n",
       "      <td>8.834972</td>\n",
       "    </tr>\n",
       "    <tr>\n",
       "      <th>4</th>\n",
       "      <td>23</td>\n",
       "      <td>39</td>\n",
       "      <td>33</td>\n",
       "      <td>6.772365</td>\n",
       "    </tr>\n",
       "  </tbody>\n",
       "</table>\n",
       "</div>"
      ],
      "text/plain": [
       "   OOPs  CSA  Finance     Grade\n",
       "0     8   49       31  5.723917\n",
       "1    24   30       50  6.762647\n",
       "2     3   48       45  5.345723\n",
       "3    39   47       12  8.834972\n",
       "4    23   39       33  6.772365"
      ]
     },
     "execution_count": 10,
     "metadata": {},
     "output_type": "execute_result"
    }
   ],
   "source": [
    "#set random seed for reproducibility\n",
    "np.random.seed(100)\n",
    "\n",
    "#generate random data\n",
    "n = 50\n",
    "OOPs = np.random.randint(0, 51, n)\n",
    "CSA = np.random.randint(0, 51, n)\n",
    "Finance = np.random.randint(0, 51, n)\n",
    "Y = 2 + 0.5*OOPs + 0.3*CSA + 0.1*Finance + np.random.uniform(0, 1, n)\n",
    "Y = Y / np.max(Y) * 10\n",
    "\n",
    "#create DataFrame\n",
    "df = pd.DataFrame({'OOPs': OOPs, 'CSA': CSA, 'Finance': Finance, 'Grade': Y})\n",
    "\n",
    "#split the data into training and testing sets\n",
    "X = df.drop(columns='Grade')\n",
    "y = df['Grade']\n",
    "X_train, X_test, Y_train, Y_test = train_test_split(X, Y, test_size=1/4, random_state=0)\n",
    "\n",
    "df.head()"
   ]
  },
  {
   "cell_type": "code",
   "execution_count": 11,
   "id": "ca62f37b",
   "metadata": {},
   "outputs": [
    {
     "data": {
      "text/plain": [
       "LinearRegression()"
      ]
     },
     "execution_count": 11,
     "metadata": {},
     "output_type": "execute_result"
    }
   ],
   "source": [
    "#create linear regression model and fit it on the training data\n",
    "mlr = LinearRegression()\n",
    "mlr.fit(X_train,Y_train)"
   ]
  },
  {
   "cell_type": "markdown",
   "id": "367ba88b",
   "metadata": {},
   "source": [
    "### MLR COEFFICIENTS"
   ]
  },
  {
   "cell_type": "code",
   "execution_count": 12,
   "id": "216c26ef",
   "metadata": {},
   "outputs": [
    {
     "name": "stdout",
     "output_type": "stream",
     "text": [
      "slope = [0.1197082  0.07043044 0.02429789] \n",
      "and intercept = 0.5380980937703033\n"
     ]
    }
   ],
   "source": [
    "#get the slope and intercept of the linear regression line\n",
    "m = mlr.coef_\n",
    "c = mlr.intercept_\n",
    "\n",
    "print('slope =', m, \"\\nand intercept =\", c)"
   ]
  },
  {
   "cell_type": "code",
   "execution_count": 13,
   "id": "da2e4787",
   "metadata": {},
   "outputs": [
    {
     "data": {
      "text/plain": [
       "array([5.5679288 , 6.29561358, 5.36867306, 8.16982156, 6.16477148,\n",
       "       7.33574517, 1.45224694, 9.80102152, 2.9299514 , 7.15522388,\n",
       "       5.74268906, 2.87847511, 5.87809413, 1.95086846, 5.39709194,\n",
       "       5.26881186, 4.81502861, 6.4264107 , 4.69733721, 6.33592684,\n",
       "       7.64766707, 6.7389025 , 4.62622479, 6.9066657 , 2.71115833,\n",
       "       9.98095963, 5.43317658, 5.07505246, 3.66288113, 9.7173283 ,\n",
       "       5.43430498, 4.4758295 , 5.16844597, 8.80852319, 5.70008987,\n",
       "       7.1971949 , 8.87572549])"
      ]
     },
     "execution_count": 13,
     "metadata": {},
     "output_type": "execute_result"
    }
   ],
   "source": [
    "#predict the grades for the training data\n",
    "Y_pred_train = mlr.predict(X_train)\n",
    "Y_pred_train"
   ]
  },
  {
   "cell_type": "code",
   "execution_count": 14,
   "id": "06cba272",
   "metadata": {
    "scrolled": true
   },
   "outputs": [
    {
     "data": {
      "text/plain": [
       "0.9988648123872085"
      ]
     },
     "execution_count": 14,
     "metadata": {},
     "output_type": "execute_result"
    }
   ],
   "source": [
    "#calculate the R-squared score for the training data\n",
    "r2_train = r2_score(Y_train, Y_pred_train)\n",
    "r2_train"
   ]
  },
  {
   "cell_type": "markdown",
   "id": "64c603ec",
   "metadata": {},
   "source": [
    "### REGRESSION GRAPH"
   ]
  },
  {
   "cell_type": "code",
   "execution_count": 16,
   "id": "b72b4260",
   "metadata": {},
   "outputs": [
    {
     "data": {
      "image/png": "[encoded data removed]",
      "text/plain": [
       "<Figure size 432x288 with 1 Axes>"
      ]
     },
     "metadata": {
      "needs_background": "light"
     },
     "output_type": "display_data"
    }
   ],
   "source": [
    "#plot a scatter plot of actual vs predicted grades for the training data\n",
    "plt.scatter(Y_train, Y_pred_train, color='blue')\n",
    "plt.xlabel('Actual')\n",
    "plt.ylabel('Predicted')\n",
    "plt.title('Actual vs Predicted for Training Data')\n",
    "x = np.linspace(0, np.max(Y_train))\n",
    "plt.plot(x, x, color='green', linewidth=3)\n",
    "plt.show()"
   ]
  },
  {
   "cell_type": "code",
   "execution_count": 17,
   "id": "0cea5023",
   "metadata": {},
   "outputs": [
    {
     "data": {
      "text/plain": [
       "array([7.25572652, 5.40967274, 3.6338094 , 4.98065848, 5.37128889,\n",
       "       2.59103284, 9.58658499, 4.11725014, 6.8102796 , 6.84000417,\n",
       "       2.68083473, 3.36754895, 7.44979114])"
      ]
     },
     "execution_count": 17,
     "metadata": {},
     "output_type": "execute_result"
    }
   ],
   "source": [
    "#predict the grades for the testing data\n",
    "Y_pred_test = mlr.predict(X_test)\n",
    "Y_pred_test"
   ]
  },
  {
   "cell_type": "code",
   "execution_count": 18,
   "id": "56b49742",
   "metadata": {},
   "outputs": [
    {
     "data": {
      "text/plain": [
       "0.9993330878569655"
      ]
     },
     "execution_count": 18,
     "metadata": {},
     "output_type": "execute_result"
    }
   ],
   "source": [
    "#calculate the R-squared score for the testing data\n",
    "r2_test = r2_score(Y_test, Y_pred_test)\n",
    "r2_test"
   ]
  },
  {
   "cell_type": "code",
   "execution_count": 22,
   "id": "8440aca6",
   "metadata": {
    "scrolled": false
   },
   "outputs": [
    {
     "data": {
      "image/png": "[encoded data removed]",
      "text/plain": [
       "<Figure size 432x288 with 1 Axes>"
      ]
     },
     "metadata": {
      "needs_background": "light"
     },
     "output_type": "display_data"
    }
   ],
   "source": [
    "#plot a scatter plot of actual vs predicted grades for the testing data\n",
    "plt.scatter(Y_test, Y_pred_test, color='blue')\n",
    "plt.xlabel('Actual')\n",
    "plt.ylabel('Predicted')\n",
    "plt.title('Actual vs Predicted for Testing Data')\n",
    "x = np.linspace(0, np.max(Y_test))\n",
    "plt.plot(x, x, color='pink', linewidth=3)\n",
    "plt.show()"
   ]
  },
  {
   "cell_type": "markdown",
   "id": "b4f53f2b",
   "metadata": {},
   "source": [
    "### PREDICT THE OUTPUT FOR A NEW DATAPOINT"
   ]
  },
  {
   "cell_type": "code",
   "execution_count": 29,
   "id": "95770382",
   "metadata": {},
   "outputs": [
    {
     "name": "stderr",
     "output_type": "stream",
     "text": [
      "C:\\Users\\codes\\anaconda3\\lib\\site-packages\\sklearn\\base.py:450: UserWarning: X does not have valid feature names, but LinearRegression was fitted with feature names\n",
      "  warnings.warn(\n"
     ]
    },
    {
     "data": {
      "text/plain": [
       "array([2.67184555])"
      ]
     },
     "execution_count": 29,
     "metadata": {},
     "output_type": "execute_result"
    }
   ],
   "source": [
    "#predict the output for a new datapoint\n",
    "new_data = [[12, 3, 20]]\n",
    "new_prediction = mlr.predict(new_data)\n",
    "new_prediction"
   ]
  },
  {
   "cell_type": "code",
   "execution_count": 23,
   "id": "60680418",
   "metadata": {},
   "outputs": [],
   "source": [
    "#create a DataFrame to compare the actual vs predicted values\n",
    "pred_df = pd.DataFrame({\n",
    "    'Actual Value': Y_test.ravel(),\n",
    "    'Predicted Value': Y_pred_test.ravel(),\n",
    "    'Difference': (Y_test - Y_pred_test).ravel()\n",
    "})"
   ]
  },
  {
   "cell_type": "code",
   "execution_count": 30,
   "id": "26dda088",
   "metadata": {},
   "outputs": [
    {
     "name": "stdout",
     "output_type": "stream",
     "text": [
      "   Actual Value  Predicted Value  Difference\n",
      "0      7.273997         7.255727    0.018271\n",
      "1      5.488569         5.409673    0.078897\n",
      "2      3.727790         3.633809    0.093980\n",
      "3      4.951389         4.980658   -0.029269\n",
      "4      5.345723         5.371289   -0.025566\n",
      "R-squared score for training data: 0.9988648123872085\n",
      "R-squared score for testing data: 0.9993330878569655\n"
     ]
    }
   ],
   "source": [
    "#print the DataFrame and R-squared scores for both training and testing data\n",
    "print(pred_df.head())\n",
    "print(f'R-squared score for training data: {r2_train}')\n",
    "print(f'R-squared score for testing data: {r2_test}')"
   ]
  },
  {
   "cell_type": "markdown",
   "id": "ecdaf677",
   "metadata": {},
   "source": [
    "### MLR ERRORS"
   ]
  },
  {
   "cell_type": "code",
   "execution_count": 33,
   "id": "2a736cd2",
   "metadata": {},
   "outputs": [
    {
     "data": {
      "text/plain": [
       "0.041761423703217455"
      ]
     },
     "execution_count": 33,
     "metadata": {},
     "output_type": "execute_result"
    }
   ],
   "source": [
    "#calculate Mean Absolute Error using inbuilt function\n",
    "mae_inbuilt = mean_absolute_error(Y_test, Y_pred_test)\n",
    "mae_inbuilt"
   ]
  },
  {
   "cell_type": "code",
   "execution_count": 35,
   "id": "e06ac332",
   "metadata": {},
   "outputs": [
    {
     "data": {
      "text/plain": [
       "0.0027279763466019446"
      ]
     },
     "execution_count": 35,
     "metadata": {},
     "output_type": "execute_result"
    }
   ],
   "source": [
    "#calculate Mean Squared Error using inbuilt function\n",
    "mse_inbuilt = mean_squared_error(Y_test, Y_pred_test)\n",
    "mse_inbuilt"
   ]
  },
  {
   "cell_type": "code",
   "execution_count": 36,
   "id": "47da69f6",
   "metadata": {},
   "outputs": [
    {
     "data": {
      "text/plain": [
       "0.03546369250582528"
      ]
     },
     "execution_count": 36,
     "metadata": {},
     "output_type": "execute_result"
    }
   ],
   "source": [
    "#calculate Sum of Squared Residuals\n",
    "ssr = ((Y_pred_test - Y_test)**2).sum()\n",
    "ssr"
   ]
  },
  {
   "cell_type": "markdown",
   "id": "63888d4e",
   "metadata": {},
   "source": [
    "## (b) Income"
   ]
  },
  {
   "cell_type": "code",
   "execution_count": 37,
   "id": "0a4509d6",
   "metadata": {},
   "outputs": [],
   "source": [
    "#import necessary libraries\n",
    "from sklearn.datasets import fetch_openml"
   ]
  },
  {
   "cell_type": "code",
   "execution_count": 38,
   "id": "edba37cf",
   "metadata": {},
   "outputs": [
    {
     "data": {
      "text/html": [
       "<div>\n",
       "<style scoped>\n",
       "    .dataframe tbody tr th:only-of-type {\n",
       "        vertical-align: middle;\n",
       "    }\n",
       "\n",
       "    .dataframe tbody tr th {\n",
       "        vertical-align: top;\n",
       "    }\n",
       "\n",
       "    .dataframe thead th {\n",
       "        text-align: right;\n",
       "    }\n",
       "</style>\n",
       "<table border=\"1\" class=\"dataframe\">\n",
       "  <thead>\n",
       "    <tr style=\"text-align: right;\">\n",
       "      <th></th>\n",
       "      <th>CRIM</th>\n",
       "      <th>ZN</th>\n",
       "      <th>INDUS</th>\n",
       "      <th>CHAS</th>\n",
       "      <th>NOX</th>\n",
       "      <th>RM</th>\n",
       "      <th>AGE</th>\n",
       "      <th>DIS</th>\n",
       "      <th>RAD</th>\n",
       "      <th>TAX</th>\n",
       "      <th>PTRATIO</th>\n",
       "      <th>B</th>\n",
       "      <th>LSTAT</th>\n",
       "    </tr>\n",
       "  </thead>\n",
       "  <tbody>\n",
       "    <tr>\n",
       "      <th>0</th>\n",
       "      <td>0.00632</td>\n",
       "      <td>18.0</td>\n",
       "      <td>2.31</td>\n",
       "      <td>0</td>\n",
       "      <td>0.538</td>\n",
       "      <td>6.575</td>\n",
       "      <td>65.2</td>\n",
       "      <td>4.0900</td>\n",
       "      <td>1</td>\n",
       "      <td>296.0</td>\n",
       "      <td>15.3</td>\n",
       "      <td>396.90</td>\n",
       "      <td>4.98</td>\n",
       "    </tr>\n",
       "    <tr>\n",
       "      <th>1</th>\n",
       "      <td>0.02731</td>\n",
       "      <td>0.0</td>\n",
       "      <td>7.07</td>\n",
       "      <td>0</td>\n",
       "      <td>0.469</td>\n",
       "      <td>6.421</td>\n",
       "      <td>78.9</td>\n",
       "      <td>4.9671</td>\n",
       "      <td>2</td>\n",
       "      <td>242.0</td>\n",
       "      <td>17.8</td>\n",
       "      <td>396.90</td>\n",
       "      <td>9.14</td>\n",
       "    </tr>\n",
       "    <tr>\n",
       "      <th>2</th>\n",
       "      <td>0.02729</td>\n",
       "      <td>0.0</td>\n",
       "      <td>7.07</td>\n",
       "      <td>0</td>\n",
       "      <td>0.469</td>\n",
       "      <td>7.185</td>\n",
       "      <td>61.1</td>\n",
       "      <td>4.9671</td>\n",
       "      <td>2</td>\n",
       "      <td>242.0</td>\n",
       "      <td>17.8</td>\n",
       "      <td>392.83</td>\n",
       "      <td>4.03</td>\n",
       "    </tr>\n",
       "    <tr>\n",
       "      <th>3</th>\n",
       "      <td>0.03237</td>\n",
       "      <td>0.0</td>\n",
       "      <td>2.18</td>\n",
       "      <td>0</td>\n",
       "      <td>0.458</td>\n",
       "      <td>6.998</td>\n",
       "      <td>45.8</td>\n",
       "      <td>6.0622</td>\n",
       "      <td>3</td>\n",
       "      <td>222.0</td>\n",
       "      <td>18.7</td>\n",
       "      <td>394.63</td>\n",
       "      <td>2.94</td>\n",
       "    </tr>\n",
       "    <tr>\n",
       "      <th>4</th>\n",
       "      <td>0.06905</td>\n",
       "      <td>0.0</td>\n",
       "      <td>2.18</td>\n",
       "      <td>0</td>\n",
       "      <td>0.458</td>\n",
       "      <td>7.147</td>\n",
       "      <td>54.2</td>\n",
       "      <td>6.0622</td>\n",
       "      <td>3</td>\n",
       "      <td>222.0</td>\n",
       "      <td>18.7</td>\n",
       "      <td>396.90</td>\n",
       "      <td>5.33</td>\n",
       "    </tr>\n",
       "    <tr>\n",
       "      <th>...</th>\n",
       "      <td>...</td>\n",
       "      <td>...</td>\n",
       "      <td>...</td>\n",
       "      <td>...</td>\n",
       "      <td>...</td>\n",
       "      <td>...</td>\n",
       "      <td>...</td>\n",
       "      <td>...</td>\n",
       "      <td>...</td>\n",
       "      <td>...</td>\n",
       "      <td>...</td>\n",
       "      <td>...</td>\n",
       "      <td>...</td>\n",
       "    </tr>\n",
       "    <tr>\n",
       "      <th>501</th>\n",
       "      <td>0.06263</td>\n",
       "      <td>0.0</td>\n",
       "      <td>11.93</td>\n",
       "      <td>0</td>\n",
       "      <td>0.573</td>\n",
       "      <td>6.593</td>\n",
       "      <td>69.1</td>\n",
       "      <td>2.4786</td>\n",
       "      <td>1</td>\n",
       "      <td>273.0</td>\n",
       "      <td>21.0</td>\n",
       "      <td>391.99</td>\n",
       "      <td>9.67</td>\n",
       "    </tr>\n",
       "    <tr>\n",
       "      <th>502</th>\n",
       "      <td>0.04527</td>\n",
       "      <td>0.0</td>\n",
       "      <td>11.93</td>\n",
       "      <td>0</td>\n",
       "      <td>0.573</td>\n",
       "      <td>6.120</td>\n",
       "      <td>76.7</td>\n",
       "      <td>2.2875</td>\n",
       "      <td>1</td>\n",
       "      <td>273.0</td>\n",
       "      <td>21.0</td>\n",
       "      <td>396.90</td>\n",
       "      <td>9.08</td>\n",
       "    </tr>\n",
       "    <tr>\n",
       "      <th>503</th>\n",
       "      <td>0.06076</td>\n",
       "      <td>0.0</td>\n",
       "      <td>11.93</td>\n",
       "      <td>0</td>\n",
       "      <td>0.573</td>\n",
       "      <td>6.976</td>\n",
       "      <td>91.0</td>\n",
       "      <td>2.1675</td>\n",
       "      <td>1</td>\n",
       "      <td>273.0</td>\n",
       "      <td>21.0</td>\n",
       "      <td>396.90</td>\n",
       "      <td>5.64</td>\n",
       "    </tr>\n",
       "    <tr>\n",
       "      <th>504</th>\n",
       "      <td>0.10959</td>\n",
       "      <td>0.0</td>\n",
       "      <td>11.93</td>\n",
       "      <td>0</td>\n",
       "      <td>0.573</td>\n",
       "      <td>6.794</td>\n",
       "      <td>89.3</td>\n",
       "      <td>2.3889</td>\n",
       "      <td>1</td>\n",
       "      <td>273.0</td>\n",
       "      <td>21.0</td>\n",
       "      <td>393.45</td>\n",
       "      <td>6.48</td>\n",
       "    </tr>\n",
       "    <tr>\n",
       "      <th>505</th>\n",
       "      <td>0.04741</td>\n",
       "      <td>0.0</td>\n",
       "      <td>11.93</td>\n",
       "      <td>0</td>\n",
       "      <td>0.573</td>\n",
       "      <td>6.030</td>\n",
       "      <td>80.8</td>\n",
       "      <td>2.5050</td>\n",
       "      <td>1</td>\n",
       "      <td>273.0</td>\n",
       "      <td>21.0</td>\n",
       "      <td>396.90</td>\n",
       "      <td>7.88</td>\n",
       "    </tr>\n",
       "  </tbody>\n",
       "</table>\n",
       "<p>506 rows × 13 columns</p>\n",
       "</div>"
      ],
      "text/plain": [
       "        CRIM    ZN  INDUS  CHAS    NOX     RM   AGE     DIS  RAD    TAX  \\\n",
       "0    0.00632  18.0   2.31     0  0.538  6.575  65.2  4.0900    1  296.0   \n",
       "1    0.02731   0.0   7.07     0  0.469  6.421  78.9  4.9671    2  242.0   \n",
       "2    0.02729   0.0   7.07     0  0.469  7.185  61.1  4.9671    2  242.0   \n",
       "3    0.03237   0.0   2.18     0  0.458  6.998  45.8  6.0622    3  222.0   \n",
       "4    0.06905   0.0   2.18     0  0.458  7.147  54.2  6.0622    3  222.0   \n",
       "..       ...   ...    ...   ...    ...    ...   ...     ...  ...    ...   \n",
       "501  0.06263   0.0  11.93     0  0.573  6.593  69.1  2.4786    1  273.0   \n",
       "502  0.04527   0.0  11.93     0  0.573  6.120  76.7  2.2875    1  273.0   \n",
       "503  0.06076   0.0  11.93     0  0.573  6.976  91.0  2.1675    1  273.0   \n",
       "504  0.10959   0.0  11.93     0  0.573  6.794  89.3  2.3889    1  273.0   \n",
       "505  0.04741   0.0  11.93     0  0.573  6.030  80.8  2.5050    1  273.0   \n",
       "\n",
       "     PTRATIO       B  LSTAT  \n",
       "0       15.3  396.90   4.98  \n",
       "1       17.8  396.90   9.14  \n",
       "2       17.8  392.83   4.03  \n",
       "3       18.7  394.63   2.94  \n",
       "4       18.7  396.90   5.33  \n",
       "..       ...     ...    ...  \n",
       "501     21.0  391.99   9.67  \n",
       "502     21.0  396.90   9.08  \n",
       "503     21.0  396.90   5.64  \n",
       "504     21.0  393.45   6.48  \n",
       "505     21.0  396.90   7.88  \n",
       "\n",
       "[506 rows x 13 columns]"
      ]
     },
     "execution_count": 38,
     "metadata": {},
     "output_type": "execute_result"
    }
   ],
   "source": [
    "#load Boston Housing dataset from OpenML\n",
    "boston = fetch_openml(data_id=531)\n",
    "\n",
    "# Convert data to pandas DataFrame\n",
    "data = pd.DataFrame(boston.data, columns=boston.feature_names)\n",
    "data['MEDV'] = boston.target\n",
    "\n",
    "# Convert data to numeric format\n",
    "data = data.apply(pd.to_numeric)\n",
    "\n",
    "# Split data into training and testing sets\n",
    "X = data.drop('MEDV', axis=1)\n",
    "y = data['MEDV']\n",
    "X_train, X_test, y_train, y_test = train_test_split(X, y, test_size=0.3, random_state=0)\n",
    "\n",
    "X"
   ]
  },
  {
   "cell_type": "code",
   "execution_count": 40,
   "id": "21024278",
   "metadata": {
    "scrolled": true
   },
   "outputs": [
    {
     "data": {
      "text/plain": [
       "LinearRegression()"
      ]
     },
     "execution_count": 40,
     "metadata": {},
     "output_type": "execute_result"
    }
   ],
   "source": [
    "#train a linear regression model\n",
    "mlr = LinearRegression()\n",
    "mlr.fit(X_train, y_train)"
   ]
  },
  {
   "cell_type": "markdown",
   "id": "d4814835",
   "metadata": {},
   "source": [
    "### MLR COEFFICIENTS"
   ]
  },
  {
   "cell_type": "code",
   "execution_count": 41,
   "id": "c4f533be",
   "metadata": {},
   "outputs": [
    {
     "name": "stdout",
     "output_type": "stream",
     "text": [
      "[-1.21310401e-01  4.44664254e-02  1.13416945e-02  2.51124642e+00\n",
      " -1.62312529e+01  3.85906801e+00 -9.98516565e-03 -1.50026956e+00\n",
      "  2.42143466e-01 -1.10716124e-02 -1.01775264e+00  6.81446545e-03\n",
      " -4.86738066e-01]\n",
      "37.937107741833486\n"
     ]
    }
   ],
   "source": [
    "#get model coefficients and intercept\n",
    "m = mlr.coef_\n",
    "c = mlr.intercept_\n",
    "print (m, c, sep='\\n')"
   ]
  },
  {
   "cell_type": "code",
   "execution_count": 43,
   "id": "2835f8b4",
   "metadata": {},
   "outputs": [
    {
     "data": {
      "text/plain": [
       "array([ 4.58009023, 28.38354012, 17.27775551, 29.39070404, 20.54476971,\n",
       "       15.75754584, 17.6247808 , 12.49442278,  9.22920189, 18.99918727,\n",
       "       34.41440638, 32.93511107, 23.12483827, 19.46710569, 22.74964337,\n",
       "       26.62358085, 21.76687195, 16.99819925, 31.96065524, 10.83525249,\n",
       "       19.40870301, 32.61288955, 18.95461969, 15.98186378, 18.61712222,\n",
       "       14.38842624, 24.83097587, 23.82401975, 16.76826477, 13.84580415,\n",
       "       20.0779166 , 24.92266767, 17.16189624, 24.8364039 , 22.24174572,\n",
       "       27.56012394, 35.90604682, 17.04440455, 12.33400373, 34.74493343,\n",
       "       30.90136127, 20.49045946, 39.64478915, 29.13249385, 29.01388038,\n",
       "       17.54994965, 26.93066272, 40.12543441, 28.81755964, 16.66961044,\n",
       "       37.3921316 , 35.14109319, 13.69652069, 29.0202751 , 21.51233536,\n",
       "       24.20704328, 21.46319361, 23.80022518, 27.71918267, 29.6616371 ,\n",
       "       14.66010846, 25.7422347 , 23.1487446 , 13.27417646, 13.9336657 ,\n",
       "       25.4021242 , 19.33272476, 30.47117826, 11.02963187, 23.62001319,\n",
       "       16.80574557, 17.04252576, 22.07503746, 21.7870848 , 11.56731564,\n",
       "       25.17995099, 28.63591914, 20.14041637, 13.01330118, 25.35764624,\n",
       "       25.9211222 , 24.90848297, 23.54370455, 26.74512868, 16.61217606,\n",
       "       21.98007128, 36.05895759, 20.87277563, 36.4957868 , 25.30540546,\n",
       "       21.45091552, 15.96964651, 31.18700699, 20.5533189 , 27.80588614,\n",
       "       14.96440594, 32.04566401, 14.00659687,  2.04649296, 19.49962868,\n",
       "       14.82331327, 37.64768918, 15.71342314, 14.23740027, 27.33605273,\n",
       "       23.10148761, 17.88535901, 30.37412063, 27.451859  , 27.09979016,\n",
       "       24.80537393, 24.38918595, 23.64495462, 11.29938194, 20.65620534,\n",
       "       13.21055057, 16.70855376, 13.16841701, 28.23247012, 14.8226369 ,\n",
       "       16.29757922, 28.64199889, 15.06218946, 21.18971122, 12.75708124,\n",
       "       13.99365134, 22.83072813, 21.20774121, 14.13161612, 20.44808383,\n",
       "       16.36243779, 24.65484232, 12.49040338, 34.77711946, 12.45641232,\n",
       "       43.22955117, 31.41393065, 35.04814657, 21.30806839, 15.4770307 ,\n",
       "       26.73190351, 29.36180904, 14.11956683, 26.54619315, 37.16753397,\n",
       "       17.7117175 , 10.84255498, 34.24342697, 35.90147897, 18.31022102,\n",
       "       22.5688466 , 17.79042208, 24.35538008, 19.37960038, 26.96776079,\n",
       "       -4.22139357, 20.5520325 , 35.71197279, 36.69615252, 24.94187745,\n",
       "       27.33115603, 20.7798212 , 20.8191498 , 15.79777991, 20.67145572,\n",
       "       20.66127597, 27.65573863, 19.65654596,  7.17727648, 16.52049943,\n",
       "       32.35817143, 35.1816135 , 17.28806945, 18.56061098, 23.60983397,\n",
       "        6.76598741, 21.08147109, 23.86257252, 16.36284666, 18.2906014 ,\n",
       "       21.82464612, 27.38190017, 25.57867172, 37.06485466, 15.73734264,\n",
       "       28.47223588, 24.98353465, 22.38382878, 38.62550505, 20.43926298,\n",
       "       23.48987288, 22.61444232, 12.5117458 , 20.33533516, 33.64015084,\n",
       "       24.63063533, 17.93773997, 33.48573725, 21.72028562, 28.35729502,\n",
       "       32.26596345, 36.62422421, 21.62566426, 24.18349351, 22.41620248,\n",
       "       31.77276473, 22.35353013, 18.73053734, 21.49989187, 28.44198243,\n",
       "       22.51952367, 21.45883011, 16.82673976, 17.54257239, 16.97840239,\n",
       "       17.46786153, 16.61163753, 31.73168955, 23.3097649 , 17.63772151,\n",
       "       19.88484018, 33.71936799, 13.67646   , 25.04109653, 17.3128807 ,\n",
       "       30.29079542, 29.6151892 , 22.33955705, 21.31920284, 35.35577917,\n",
       "       22.27944075, 33.06120639, 20.88395853, 31.3905143 , 31.13334883,\n",
       "       37.46441551, 26.74247026, 21.80894913, 28.78922241, 16.20262847,\n",
       "       26.92998741, 20.87958217, 30.50139907,  9.42725406, 30.56776537,\n",
       "        5.7847668 , 15.56551912, 17.98191541, 35.46287091, 32.0662604 ,\n",
       "       10.9568571 , 13.14242174, 21.44943438, 34.54722731, 18.76853501,\n",
       "       19.23333692, 15.5125869 , 25.87532728, 41.18483684, 25.06105474,\n",
       "       42.07878814, 24.88553099, 22.41398732, 12.28015077, 11.97075269,\n",
       "       14.54995722, 18.67591032,  3.04826977, 27.44390903, 26.03468715,\n",
       "       41.2410928 , 21.07760948, 21.23754535, 34.18860344, 32.89861133,\n",
       "       10.19285747, 24.6941559 , 43.53581321, 17.14738364, 17.88035534,\n",
       "       25.59799438, 18.38762861,  6.00722225, 19.26475735, 35.25775055,\n",
       "       16.78139188, 23.16497966, 13.44717109, 24.29381489, 18.83690439,\n",
       "       17.32111819, 18.89717682, 33.1963219 , 19.25217954, 30.54683158,\n",
       "       33.02625457, 41.62375082, 18.96012922, 15.90296083, 37.54500089,\n",
       "       17.71972505,  9.57954928, 15.21272026, 24.88520763, 19.70130279,\n",
       "       16.71379696, 27.0092624 , 13.55021225,  5.7463316 , 18.98316668,\n",
       "        9.68082641, 27.74710821,  4.64639597, 29.03152694, 32.29041626,\n",
       "       22.15232883, 16.68682983, 18.58672075, 20.58317502, 33.2857054 ,\n",
       "       27.6665153 , 19.57108546, 20.68521967,  6.73380054, 28.77112478,\n",
       "       24.76800504, 21.99787345, 13.49152422, 25.82395185, 19.08580128,\n",
       "        8.93976269, 26.59189935, 16.28955045, 31.38979989, 32.60221053,\n",
       "       25.29681648, 18.58058714, 30.48368806, 21.61194397, 25.50577567,\n",
       "       25.87129723, 31.6828422 , 24.13572278, 34.7080645 , 17.04993258,\n",
       "       19.08819145, 18.51274877, 40.97541698, 25.04339569, 19.22334891,\n",
       "       33.18829592, 23.67156049, 18.0514895 , 23.00571889])"
      ]
     },
     "execution_count": 43,
     "metadata": {},
     "output_type": "execute_result"
    }
   ],
   "source": [
    "#make predictions on training data and calculate R-squared\n",
    "y_pred_train = mlr.predict(X_train)\n",
    "y_pred_train"
   ]
  },
  {
   "cell_type": "code",
   "execution_count": 44,
   "id": "9b11b377",
   "metadata": {
    "scrolled": true
   },
   "outputs": [
    {
     "data": {
      "text/plain": [
       "0.7645451026942549"
      ]
     },
     "execution_count": 44,
     "metadata": {},
     "output_type": "execute_result"
    }
   ],
   "source": [
    "r2_train = r2_score(y_train, y_pred_train)\n",
    "r2_train"
   ]
  },
  {
   "cell_type": "markdown",
   "id": "bf2fa3bd",
   "metadata": {},
   "source": [
    "### REGRESSION GRAPH"
   ]
  },
  {
   "cell_type": "code",
   "execution_count": 47,
   "id": "9d7afcd8",
   "metadata": {},
   "outputs": [
    {
     "data": {
      "image/png": "[encoded data removed]",
      "text/plain": [
       "<Figure size 432x288 with 1 Axes>"
      ]
     },
     "metadata": {
      "needs_background": "light"
     },
     "output_type": "display_data"
    }
   ],
   "source": [
    "#plot actual vs predicted values for training data\n",
    "plt.scatter(y_train, y_pred_train, color='gray')\n",
    "plt.xlabel('Actual')\n",
    "plt.ylabel('Predicted')\n",
    "plt.title('Actual VS Predicted')\n",
    "x = np.linspace(0, np.max(y_train))\n",
    "plt.plot(x, x, color='orange', linewidth=3)\n",
    "plt.show()"
   ]
  },
  {
   "cell_type": "code",
   "execution_count": 48,
   "id": "59dc9206",
   "metadata": {},
   "outputs": [
    {
     "data": {
      "text/plain": [
       "array([24.9357079 , 23.75163164, 29.32638296, 11.97534566, 21.37272478,\n",
       "       19.19148525, 20.5717479 , 21.21154015, 19.04572003, 20.35463238,\n",
       "        5.44119126, 16.93688709, 17.15482272,  5.3928209 , 40.20270696,\n",
       "       32.31327348, 22.46213268, 36.50124666, 31.03737014, 23.17124551,\n",
       "       24.74815321, 24.49939403, 20.6595791 , 30.4547583 , 22.32487164,\n",
       "       10.18932894, 17.44286422, 18.26103077, 35.63299326, 20.81960303,\n",
       "       18.27218007, 17.72047628, 19.33772473, 23.62254823, 28.97766856,\n",
       "       19.45036239, 11.13170639, 24.81843595, 18.05294835, 15.59712226,\n",
       "       26.21043403, 20.81140432, 22.17349382, 15.48367365, 22.62261604,\n",
       "       24.88561528, 19.74754478, 23.0465628 ,  9.84579105, 24.36378793,\n",
       "       21.47849008, 17.62118176, 24.39160873, 29.95102691, 13.57219422,\n",
       "       21.53645439, 20.53306273, 15.03433182, 14.3232289 , 22.11929299,\n",
       "       17.07321915, 21.54141094, 32.96766968, 31.371599  , 17.7860591 ,\n",
       "       32.75069556, 18.74795323, 19.21428022, 19.41970047, 23.08087809,\n",
       "       22.87732816, 24.06399098, 30.52824406, 28.71453508, 25.90763165,\n",
       "        5.17596718, 36.8709072 , 23.76983849, 27.26064379, 19.25849042,\n",
       "       28.41860517, 19.3008798 , 18.94922353, 38.00154059, 39.44096748,\n",
       "       23.72297885, 24.83722534, 16.52015743, 25.9970546 , 16.73997072,\n",
       "       15.48656983, 13.52825536, 24.12884363, 30.76919578, 22.18731163,\n",
       "       19.8848644 ,  0.42275479, 24.86785849, 16.05692   , 17.42486412,\n",
       "       25.49798527, 22.35171315, 32.66562689, 22.04428746, 27.29799885,\n",
       "       23.20302026,  6.86196574, 14.869251  , 22.31804948, 29.18125768,\n",
       "       33.22568234, 13.24392523, 19.67195771, 20.7502616 , 12.02271319,\n",
       "       23.50067006,  5.55662571, 19.87634689,  9.27059783, 44.81787339,\n",
       "       30.56017983, 12.44394048, 17.33192202, 21.48313292, 23.52664913,\n",
       "       20.49877266, 35.09161099, 13.22639935, 20.70321163, 35.35582833,\n",
       "       19.45050576, 13.81603561, 14.15654562, 23.03678503, 15.07521258,\n",
       "       30.9662041 , 25.23236632, 15.43763716, 24.06406534,  9.93080346,\n",
       "       15.01618901, 21.06098873, 32.87115732, 27.80927747, 25.91293794,\n",
       "       15.27877362, 30.97489404, 27.81107682, 14.5068157 ,  7.57369946,\n",
       "       28.3348068 , 25.04341153])"
      ]
     },
     "execution_count": 48,
     "metadata": {},
     "output_type": "execute_result"
    }
   ],
   "source": [
    "#make predictions on testing data and calculate R-squared, MAE, and MSE\n",
    "y_pred_test = mlr.predict(X_test)\n",
    "y_pred_test"
   ]
  },
  {
   "cell_type": "code",
   "execution_count": 51,
   "id": "c74cce1d",
   "metadata": {},
   "outputs": [
    {
     "data": {
      "image/png": "[encoded data removed]",
      "text/plain": [
       "<Figure size 432x288 with 1 Axes>"
      ]
     },
     "metadata": {
      "needs_background": "light"
     },
     "output_type": "display_data"
    }
   ],
   "source": [
    "plt.scatter(y_test, y_pred_test, color = 'black')\n",
    "plt.xlabel('Actual')\n",
    "plt.ylabel('Predicted')\n",
    "plt.title('Actual VS Predicted')\n",
    "x = np.linspace(0, np.max(y_test))\n",
    "plt.plot(x, x, color='green', linewidth = 3)\n",
    "plt.show()"
   ]
  },
  {
   "cell_type": "code",
   "execution_count": 52,
   "id": "a3c708e1",
   "metadata": {
    "scrolled": true
   },
   "outputs": [
    {
     "data": {
      "text/plain": [
       "0.6733825506400171"
      ]
     },
     "execution_count": 52,
     "metadata": {},
     "output_type": "execute_result"
    }
   ],
   "source": [
    "r2_test = r2_score(y_test, y_pred_test)\n",
    "r2_test"
   ]
  },
  {
   "cell_type": "markdown",
   "id": "0ccf8412",
   "metadata": {},
   "source": [
    "### PREDICT THE OUTPUT FOR A NEW DATAPOINT"
   ]
  },
  {
   "cell_type": "code",
   "execution_count": 58,
   "id": "5768e4a8",
   "metadata": {},
   "outputs": [
    {
     "name": "stderr",
     "output_type": "stream",
     "text": [
      "C:\\Users\\codes\\anaconda3\\lib\\site-packages\\sklearn\\base.py:450: UserWarning: X does not have valid feature names, but LinearRegression was fitted with feature names\n",
      "  warnings.warn(\n"
     ]
    },
    {
     "data": {
      "text/plain": [
       "array([-389.75199701])"
      ]
     },
     "execution_count": 58,
     "metadata": {},
     "output_type": "execute_result"
    }
   ],
   "source": [
    "#predict the output for a new datapoint\n",
    "new_data = [[14, 12, 3, 45, 12.3, 11.333, 73.2323, 1.2, 32, 83, 333.3, 12.3, 100.3]]\n",
    "new_prediction = mlr.predict(new_data)\n",
    "new_prediction"
   ]
  },
  {
   "cell_type": "code",
   "execution_count": 53,
   "id": "65c38290",
   "metadata": {},
   "outputs": [],
   "source": [
    "mae = mean_absolute_error(y_test, y_pred_test)\n",
    "mse = mean_squared_error(y_test, y_pred_test)"
   ]
  },
  {
   "cell_type": "markdown",
   "id": "41b414c0",
   "metadata": {},
   "source": [
    "### MLR ERRORS"
   ]
  },
  {
   "cell_type": "code",
   "execution_count": 54,
   "id": "d1c7625c",
   "metadata": {},
   "outputs": [
    {
     "name": "stdout",
     "output_type": "stream",
     "text": [
      "R-squared on training data: 0.7645451026942549\n",
      "R-squared on testing data: 0.6733825506400171\n",
      "Mean Absolute Error: 3.60990406038182\n",
      "Mean Squared Error: 27.195965766883408\n"
     ]
    }
   ],
   "source": [
    "#print R-squared, MAE, and MSE values\n",
    "print('R-squared on training data:', r2_train)\n",
    "print('R-squared on testing data:', r2_test)\n",
    "print('Mean Absolute Error:', mae)\n",
    "print('Mean Squared Error:', mse)"
   ]
  },
  {
   "cell_type": "code",
   "execution_count": 55,
   "id": "dfbd0af1",
   "metadata": {},
   "outputs": [
    {
     "data": {
      "text/html": [
       "<div>\n",
       "<style scoped>\n",
       "    .dataframe tbody tr th:only-of-type {\n",
       "        vertical-align: middle;\n",
       "    }\n",
       "\n",
       "    .dataframe tbody tr th {\n",
       "        vertical-align: top;\n",
       "    }\n",
       "\n",
       "    .dataframe thead th {\n",
       "        text-align: right;\n",
       "    }\n",
       "</style>\n",
       "<table border=\"1\" class=\"dataframe\">\n",
       "  <thead>\n",
       "    <tr style=\"text-align: right;\">\n",
       "      <th></th>\n",
       "      <th>Actual Value</th>\n",
       "      <th>Predicted Value</th>\n",
       "      <th>Difference</th>\n",
       "    </tr>\n",
       "  </thead>\n",
       "  <tbody>\n",
       "    <tr>\n",
       "      <th>0</th>\n",
       "      <td>22.6</td>\n",
       "      <td>24.935708</td>\n",
       "      <td>-2.335708</td>\n",
       "    </tr>\n",
       "    <tr>\n",
       "      <th>1</th>\n",
       "      <td>50.0</td>\n",
       "      <td>23.751632</td>\n",
       "      <td>26.248368</td>\n",
       "    </tr>\n",
       "    <tr>\n",
       "      <th>2</th>\n",
       "      <td>23.0</td>\n",
       "      <td>29.326383</td>\n",
       "      <td>-6.326383</td>\n",
       "    </tr>\n",
       "    <tr>\n",
       "      <th>3</th>\n",
       "      <td>8.3</td>\n",
       "      <td>11.975346</td>\n",
       "      <td>-3.675346</td>\n",
       "    </tr>\n",
       "    <tr>\n",
       "      <th>4</th>\n",
       "      <td>21.2</td>\n",
       "      <td>21.372725</td>\n",
       "      <td>-0.172725</td>\n",
       "    </tr>\n",
       "  </tbody>\n",
       "</table>\n",
       "</div>"
      ],
      "text/plain": [
       "   Actual Value  Predicted Value  Difference\n",
       "0          22.6        24.935708   -2.335708\n",
       "1          50.0        23.751632   26.248368\n",
       "2          23.0        29.326383   -6.326383\n",
       "3           8.3        11.975346   -3.675346\n",
       "4          21.2        21.372725   -0.172725"
      ]
     },
     "execution_count": 55,
     "metadata": {},
     "output_type": "execute_result"
    }
   ],
   "source": [
    "#create a DataFrame to compare actual and predicted values for testing data\n",
    "pred_df = pd.DataFrame({\n",
    "    'Actual Value': y_test.ravel(),\n",
    "    'Predicted Value': y_pred_test.ravel(),\n",
    "    'Difference': (y_test - y_pred_test).ravel()\n",
    "})\n",
    "\n",
    "#display the DataFrame\n",
    "pred_df.head()"
   ]
  }
 ],
 "metadata": {
  "kernelspec": {
   "display_name": "Python 3 (ipykernel)",
   "language": "python",
   "name": "python3"
  },
  "language_info": {
   "codemirror_mode": {
    "name": "ipython",
    "version": 3
   },
   "file_extension": ".py",
   "mimetype": "text/x-python",
   "name": "python",
   "nbconvert_exporter": "python",
   "pygments_lexer": "ipython3",
   "version": "3.9.12"
  }
 },
 "nbformat": 4,
 "nbformat_minor": 5
}
